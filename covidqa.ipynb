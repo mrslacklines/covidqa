{
  "nbformat": 4,
  "nbformat_minor": 0,
  "metadata": {
    "colab": {
      "provenance": [],
      "authorship_tag": "ABX9TyNe7ayigw23niinYpojSbMQ",
      "include_colab_link": true
    },
    "kernelspec": {
      "name": "python3",
      "display_name": "Python 3"
    },
    "language_info": {
      "name": "python"
    },
    "accelerator": "GPU",
    "gpuClass": "standard",
    "widgets": {
      "application/vnd.jupyter.widget-state+json": {
        "5a51a87ef4fc4fefb3a806f1a56acbc2": {
          "model_module": "@jupyter-widgets/controls",
          "model_name": "HBoxModel",
          "model_module_version": "1.5.0",
          "state": {
            "_dom_classes": [],
            "_model_module": "@jupyter-widgets/controls",
            "_model_module_version": "1.5.0",
            "_model_name": "HBoxModel",
            "_view_count": null,
            "_view_module": "@jupyter-widgets/controls",
            "_view_module_version": "1.5.0",
            "_view_name": "HBoxView",
            "box_style": "",
            "children": [
              "IPY_MODEL_232515b4959a43b09a84da5a1678a35a",
              "IPY_MODEL_c8ec8d8b4c2e41c48251fb6e2df7d2d1",
              "IPY_MODEL_eff8ea57f673456890019f95792c1a3c"
            ],
            "layout": "IPY_MODEL_12524ca49b314524b5e6123d41aba2e0"
          }
        },
        "232515b4959a43b09a84da5a1678a35a": {
          "model_module": "@jupyter-widgets/controls",
          "model_name": "HTMLModel",
          "model_module_version": "1.5.0",
          "state": {
            "_dom_classes": [],
            "_model_module": "@jupyter-widgets/controls",
            "_model_module_version": "1.5.0",
            "_model_name": "HTMLModel",
            "_view_count": null,
            "_view_module": "@jupyter-widgets/controls",
            "_view_module_version": "1.5.0",
            "_view_name": "HTMLView",
            "description": "",
            "description_tooltip": null,
            "layout": "IPY_MODEL_12032acba53b4eea9cbc45c59b05cf8e",
            "placeholder": "​",
            "style": "IPY_MODEL_9a27af50599745dc9ca737e98ec62b3d",
            "value": "Map: 100%"
          }
        },
        "c8ec8d8b4c2e41c48251fb6e2df7d2d1": {
          "model_module": "@jupyter-widgets/controls",
          "model_name": "FloatProgressModel",
          "model_module_version": "1.5.0",
          "state": {
            "_dom_classes": [],
            "_model_module": "@jupyter-widgets/controls",
            "_model_module_version": "1.5.0",
            "_model_name": "FloatProgressModel",
            "_view_count": null,
            "_view_module": "@jupyter-widgets/controls",
            "_view_module_version": "1.5.0",
            "_view_name": "ProgressView",
            "bar_style": "",
            "description": "",
            "description_tooltip": null,
            "layout": "IPY_MODEL_267de71fa3c5415b8838b62f7d1aabea",
            "max": 335,
            "min": 0,
            "orientation": "horizontal",
            "style": "IPY_MODEL_77a0f11b071a4d4caddbdb3304bda63a",
            "value": 335
          }
        },
        "eff8ea57f673456890019f95792c1a3c": {
          "model_module": "@jupyter-widgets/controls",
          "model_name": "HTMLModel",
          "model_module_version": "1.5.0",
          "state": {
            "_dom_classes": [],
            "_model_module": "@jupyter-widgets/controls",
            "_model_module_version": "1.5.0",
            "_model_name": "HTMLModel",
            "_view_count": null,
            "_view_module": "@jupyter-widgets/controls",
            "_view_module_version": "1.5.0",
            "_view_name": "HTMLView",
            "description": "",
            "description_tooltip": null,
            "layout": "IPY_MODEL_4fa34a739ca94d81a9677f8011b7c2ff",
            "placeholder": "​",
            "style": "IPY_MODEL_de29945839384dcba9faadd60aea177d",
            "value": " 335/335 [00:21&lt;00:00, 18.06 examples/s]"
          }
        },
        "12524ca49b314524b5e6123d41aba2e0": {
          "model_module": "@jupyter-widgets/base",
          "model_name": "LayoutModel",
          "model_module_version": "1.2.0",
          "state": {
            "_model_module": "@jupyter-widgets/base",
            "_model_module_version": "1.2.0",
            "_model_name": "LayoutModel",
            "_view_count": null,
            "_view_module": "@jupyter-widgets/base",
            "_view_module_version": "1.2.0",
            "_view_name": "LayoutView",
            "align_content": null,
            "align_items": null,
            "align_self": null,
            "border": null,
            "bottom": null,
            "display": null,
            "flex": null,
            "flex_flow": null,
            "grid_area": null,
            "grid_auto_columns": null,
            "grid_auto_flow": null,
            "grid_auto_rows": null,
            "grid_column": null,
            "grid_gap": null,
            "grid_row": null,
            "grid_template_areas": null,
            "grid_template_columns": null,
            "grid_template_rows": null,
            "height": null,
            "justify_content": null,
            "justify_items": null,
            "left": null,
            "margin": null,
            "max_height": null,
            "max_width": null,
            "min_height": null,
            "min_width": null,
            "object_fit": null,
            "object_position": null,
            "order": null,
            "overflow": null,
            "overflow_x": null,
            "overflow_y": null,
            "padding": null,
            "right": null,
            "top": null,
            "visibility": "hidden",
            "width": null
          }
        },
        "12032acba53b4eea9cbc45c59b05cf8e": {
          "model_module": "@jupyter-widgets/base",
          "model_name": "LayoutModel",
          "model_module_version": "1.2.0",
          "state": {
            "_model_module": "@jupyter-widgets/base",
            "_model_module_version": "1.2.0",
            "_model_name": "LayoutModel",
            "_view_count": null,
            "_view_module": "@jupyter-widgets/base",
            "_view_module_version": "1.2.0",
            "_view_name": "LayoutView",
            "align_content": null,
            "align_items": null,
            "align_self": null,
            "border": null,
            "bottom": null,
            "display": null,
            "flex": null,
            "flex_flow": null,
            "grid_area": null,
            "grid_auto_columns": null,
            "grid_auto_flow": null,
            "grid_auto_rows": null,
            "grid_column": null,
            "grid_gap": null,
            "grid_row": null,
            "grid_template_areas": null,
            "grid_template_columns": null,
            "grid_template_rows": null,
            "height": null,
            "justify_content": null,
            "justify_items": null,
            "left": null,
            "margin": null,
            "max_height": null,
            "max_width": null,
            "min_height": null,
            "min_width": null,
            "object_fit": null,
            "object_position": null,
            "order": null,
            "overflow": null,
            "overflow_x": null,
            "overflow_y": null,
            "padding": null,
            "right": null,
            "top": null,
            "visibility": null,
            "width": null
          }
        },
        "9a27af50599745dc9ca737e98ec62b3d": {
          "model_module": "@jupyter-widgets/controls",
          "model_name": "DescriptionStyleModel",
          "model_module_version": "1.5.0",
          "state": {
            "_model_module": "@jupyter-widgets/controls",
            "_model_module_version": "1.5.0",
            "_model_name": "DescriptionStyleModel",
            "_view_count": null,
            "_view_module": "@jupyter-widgets/base",
            "_view_module_version": "1.2.0",
            "_view_name": "StyleView",
            "description_width": ""
          }
        },
        "267de71fa3c5415b8838b62f7d1aabea": {
          "model_module": "@jupyter-widgets/base",
          "model_name": "LayoutModel",
          "model_module_version": "1.2.0",
          "state": {
            "_model_module": "@jupyter-widgets/base",
            "_model_module_version": "1.2.0",
            "_model_name": "LayoutModel",
            "_view_count": null,
            "_view_module": "@jupyter-widgets/base",
            "_view_module_version": "1.2.0",
            "_view_name": "LayoutView",
            "align_content": null,
            "align_items": null,
            "align_self": null,
            "border": null,
            "bottom": null,
            "display": null,
            "flex": null,
            "flex_flow": null,
            "grid_area": null,
            "grid_auto_columns": null,
            "grid_auto_flow": null,
            "grid_auto_rows": null,
            "grid_column": null,
            "grid_gap": null,
            "grid_row": null,
            "grid_template_areas": null,
            "grid_template_columns": null,
            "grid_template_rows": null,
            "height": null,
            "justify_content": null,
            "justify_items": null,
            "left": null,
            "margin": null,
            "max_height": null,
            "max_width": null,
            "min_height": null,
            "min_width": null,
            "object_fit": null,
            "object_position": null,
            "order": null,
            "overflow": null,
            "overflow_x": null,
            "overflow_y": null,
            "padding": null,
            "right": null,
            "top": null,
            "visibility": null,
            "width": null
          }
        },
        "77a0f11b071a4d4caddbdb3304bda63a": {
          "model_module": "@jupyter-widgets/controls",
          "model_name": "ProgressStyleModel",
          "model_module_version": "1.5.0",
          "state": {
            "_model_module": "@jupyter-widgets/controls",
            "_model_module_version": "1.5.0",
            "_model_name": "ProgressStyleModel",
            "_view_count": null,
            "_view_module": "@jupyter-widgets/base",
            "_view_module_version": "1.2.0",
            "_view_name": "StyleView",
            "bar_color": null,
            "description_width": ""
          }
        },
        "4fa34a739ca94d81a9677f8011b7c2ff": {
          "model_module": "@jupyter-widgets/base",
          "model_name": "LayoutModel",
          "model_module_version": "1.2.0",
          "state": {
            "_model_module": "@jupyter-widgets/base",
            "_model_module_version": "1.2.0",
            "_model_name": "LayoutModel",
            "_view_count": null,
            "_view_module": "@jupyter-widgets/base",
            "_view_module_version": "1.2.0",
            "_view_name": "LayoutView",
            "align_content": null,
            "align_items": null,
            "align_self": null,
            "border": null,
            "bottom": null,
            "display": null,
            "flex": null,
            "flex_flow": null,
            "grid_area": null,
            "grid_auto_columns": null,
            "grid_auto_flow": null,
            "grid_auto_rows": null,
            "grid_column": null,
            "grid_gap": null,
            "grid_row": null,
            "grid_template_areas": null,
            "grid_template_columns": null,
            "grid_template_rows": null,
            "height": null,
            "justify_content": null,
            "justify_items": null,
            "left": null,
            "margin": null,
            "max_height": null,
            "max_width": null,
            "min_height": null,
            "min_width": null,
            "object_fit": null,
            "object_position": null,
            "order": null,
            "overflow": null,
            "overflow_x": null,
            "overflow_y": null,
            "padding": null,
            "right": null,
            "top": null,
            "visibility": null,
            "width": null
          }
        },
        "de29945839384dcba9faadd60aea177d": {
          "model_module": "@jupyter-widgets/controls",
          "model_name": "DescriptionStyleModel",
          "model_module_version": "1.5.0",
          "state": {
            "_model_module": "@jupyter-widgets/controls",
            "_model_module_version": "1.5.0",
            "_model_name": "DescriptionStyleModel",
            "_view_count": null,
            "_view_module": "@jupyter-widgets/base",
            "_view_module_version": "1.2.0",
            "_view_name": "StyleView",
            "description_width": ""
          }
        },
        "993b859f683d4d139914af5ef9b88b76": {
          "model_module": "@jupyter-widgets/controls",
          "model_name": "HBoxModel",
          "model_module_version": "1.5.0",
          "state": {
            "_dom_classes": [],
            "_model_module": "@jupyter-widgets/controls",
            "_model_module_version": "1.5.0",
            "_model_name": "HBoxModel",
            "_view_count": null,
            "_view_module": "@jupyter-widgets/controls",
            "_view_module_version": "1.5.0",
            "_view_name": "HBoxView",
            "box_style": "",
            "children": [
              "IPY_MODEL_f12f573818c842f9b8882807af5974bc",
              "IPY_MODEL_b802aeaf3c764dc2bd4841c5b4210361",
              "IPY_MODEL_483c0aaaee094c55bc4f206f5361ce34"
            ],
            "layout": "IPY_MODEL_9a5cd0b377cb4512976749f124fd6738"
          }
        },
        "f12f573818c842f9b8882807af5974bc": {
          "model_module": "@jupyter-widgets/controls",
          "model_name": "HTMLModel",
          "model_module_version": "1.5.0",
          "state": {
            "_dom_classes": [],
            "_model_module": "@jupyter-widgets/controls",
            "_model_module_version": "1.5.0",
            "_model_name": "HTMLModel",
            "_view_count": null,
            "_view_module": "@jupyter-widgets/controls",
            "_view_module_version": "1.5.0",
            "_view_name": "HTMLView",
            "description": "",
            "description_tooltip": null,
            "layout": "IPY_MODEL_b58c872834424c33a68ade32d885d406",
            "placeholder": "​",
            "style": "IPY_MODEL_56d4b31de5614f3fbf03c7465f4ba68c",
            "value": "100%"
          }
        },
        "b802aeaf3c764dc2bd4841c5b4210361": {
          "model_module": "@jupyter-widgets/controls",
          "model_name": "FloatProgressModel",
          "model_module_version": "1.5.0",
          "state": {
            "_dom_classes": [],
            "_model_module": "@jupyter-widgets/controls",
            "_model_module_version": "1.5.0",
            "_model_name": "FloatProgressModel",
            "_view_count": null,
            "_view_module": "@jupyter-widgets/controls",
            "_view_module_version": "1.5.0",
            "_view_name": "ProgressView",
            "bar_style": "success",
            "description": "",
            "description_tooltip": null,
            "layout": "IPY_MODEL_9ca4e4641bdd4dddaffc72bd5ccabf3c",
            "max": 1,
            "min": 0,
            "orientation": "horizontal",
            "style": "IPY_MODEL_20165e2e75854f179dc7210be6c7c7a0",
            "value": 1
          }
        },
        "483c0aaaee094c55bc4f206f5361ce34": {
          "model_module": "@jupyter-widgets/controls",
          "model_name": "HTMLModel",
          "model_module_version": "1.5.0",
          "state": {
            "_dom_classes": [],
            "_model_module": "@jupyter-widgets/controls",
            "_model_module_version": "1.5.0",
            "_model_name": "HTMLModel",
            "_view_count": null,
            "_view_module": "@jupyter-widgets/controls",
            "_view_module_version": "1.5.0",
            "_view_name": "HTMLView",
            "description": "",
            "description_tooltip": null,
            "layout": "IPY_MODEL_89faf6e713f34c5facc86286df17de97",
            "placeholder": "​",
            "style": "IPY_MODEL_9883006626c645f68c6080f7dfdeffd2",
            "value": " 1/1 [00:00&lt;00:00, 18.42it/s]"
          }
        },
        "9a5cd0b377cb4512976749f124fd6738": {
          "model_module": "@jupyter-widgets/base",
          "model_name": "LayoutModel",
          "model_module_version": "1.2.0",
          "state": {
            "_model_module": "@jupyter-widgets/base",
            "_model_module_version": "1.2.0",
            "_model_name": "LayoutModel",
            "_view_count": null,
            "_view_module": "@jupyter-widgets/base",
            "_view_module_version": "1.2.0",
            "_view_name": "LayoutView",
            "align_content": null,
            "align_items": null,
            "align_self": null,
            "border": null,
            "bottom": null,
            "display": null,
            "flex": null,
            "flex_flow": null,
            "grid_area": null,
            "grid_auto_columns": null,
            "grid_auto_flow": null,
            "grid_auto_rows": null,
            "grid_column": null,
            "grid_gap": null,
            "grid_row": null,
            "grid_template_areas": null,
            "grid_template_columns": null,
            "grid_template_rows": null,
            "height": null,
            "justify_content": null,
            "justify_items": null,
            "left": null,
            "margin": null,
            "max_height": null,
            "max_width": null,
            "min_height": null,
            "min_width": null,
            "object_fit": null,
            "object_position": null,
            "order": null,
            "overflow": null,
            "overflow_x": null,
            "overflow_y": null,
            "padding": null,
            "right": null,
            "top": null,
            "visibility": null,
            "width": null
          }
        },
        "b58c872834424c33a68ade32d885d406": {
          "model_module": "@jupyter-widgets/base",
          "model_name": "LayoutModel",
          "model_module_version": "1.2.0",
          "state": {
            "_model_module": "@jupyter-widgets/base",
            "_model_module_version": "1.2.0",
            "_model_name": "LayoutModel",
            "_view_count": null,
            "_view_module": "@jupyter-widgets/base",
            "_view_module_version": "1.2.0",
            "_view_name": "LayoutView",
            "align_content": null,
            "align_items": null,
            "align_self": null,
            "border": null,
            "bottom": null,
            "display": null,
            "flex": null,
            "flex_flow": null,
            "grid_area": null,
            "grid_auto_columns": null,
            "grid_auto_flow": null,
            "grid_auto_rows": null,
            "grid_column": null,
            "grid_gap": null,
            "grid_row": null,
            "grid_template_areas": null,
            "grid_template_columns": null,
            "grid_template_rows": null,
            "height": null,
            "justify_content": null,
            "justify_items": null,
            "left": null,
            "margin": null,
            "max_height": null,
            "max_width": null,
            "min_height": null,
            "min_width": null,
            "object_fit": null,
            "object_position": null,
            "order": null,
            "overflow": null,
            "overflow_x": null,
            "overflow_y": null,
            "padding": null,
            "right": null,
            "top": null,
            "visibility": null,
            "width": null
          }
        },
        "56d4b31de5614f3fbf03c7465f4ba68c": {
          "model_module": "@jupyter-widgets/controls",
          "model_name": "DescriptionStyleModel",
          "model_module_version": "1.5.0",
          "state": {
            "_model_module": "@jupyter-widgets/controls",
            "_model_module_version": "1.5.0",
            "_model_name": "DescriptionStyleModel",
            "_view_count": null,
            "_view_module": "@jupyter-widgets/base",
            "_view_module_version": "1.2.0",
            "_view_name": "StyleView",
            "description_width": ""
          }
        },
        "9ca4e4641bdd4dddaffc72bd5ccabf3c": {
          "model_module": "@jupyter-widgets/base",
          "model_name": "LayoutModel",
          "model_module_version": "1.2.0",
          "state": {
            "_model_module": "@jupyter-widgets/base",
            "_model_module_version": "1.2.0",
            "_model_name": "LayoutModel",
            "_view_count": null,
            "_view_module": "@jupyter-widgets/base",
            "_view_module_version": "1.2.0",
            "_view_name": "LayoutView",
            "align_content": null,
            "align_items": null,
            "align_self": null,
            "border": null,
            "bottom": null,
            "display": null,
            "flex": null,
            "flex_flow": null,
            "grid_area": null,
            "grid_auto_columns": null,
            "grid_auto_flow": null,
            "grid_auto_rows": null,
            "grid_column": null,
            "grid_gap": null,
            "grid_row": null,
            "grid_template_areas": null,
            "grid_template_columns": null,
            "grid_template_rows": null,
            "height": null,
            "justify_content": null,
            "justify_items": null,
            "left": null,
            "margin": null,
            "max_height": null,
            "max_width": null,
            "min_height": null,
            "min_width": null,
            "object_fit": null,
            "object_position": null,
            "order": null,
            "overflow": null,
            "overflow_x": null,
            "overflow_y": null,
            "padding": null,
            "right": null,
            "top": null,
            "visibility": null,
            "width": null
          }
        },
        "20165e2e75854f179dc7210be6c7c7a0": {
          "model_module": "@jupyter-widgets/controls",
          "model_name": "ProgressStyleModel",
          "model_module_version": "1.5.0",
          "state": {
            "_model_module": "@jupyter-widgets/controls",
            "_model_module_version": "1.5.0",
            "_model_name": "ProgressStyleModel",
            "_view_count": null,
            "_view_module": "@jupyter-widgets/base",
            "_view_module_version": "1.2.0",
            "_view_name": "StyleView",
            "bar_color": null,
            "description_width": ""
          }
        },
        "89faf6e713f34c5facc86286df17de97": {
          "model_module": "@jupyter-widgets/base",
          "model_name": "LayoutModel",
          "model_module_version": "1.2.0",
          "state": {
            "_model_module": "@jupyter-widgets/base",
            "_model_module_version": "1.2.0",
            "_model_name": "LayoutModel",
            "_view_count": null,
            "_view_module": "@jupyter-widgets/base",
            "_view_module_version": "1.2.0",
            "_view_name": "LayoutView",
            "align_content": null,
            "align_items": null,
            "align_self": null,
            "border": null,
            "bottom": null,
            "display": null,
            "flex": null,
            "flex_flow": null,
            "grid_area": null,
            "grid_auto_columns": null,
            "grid_auto_flow": null,
            "grid_auto_rows": null,
            "grid_column": null,
            "grid_gap": null,
            "grid_row": null,
            "grid_template_areas": null,
            "grid_template_columns": null,
            "grid_template_rows": null,
            "height": null,
            "justify_content": null,
            "justify_items": null,
            "left": null,
            "margin": null,
            "max_height": null,
            "max_width": null,
            "min_height": null,
            "min_width": null,
            "object_fit": null,
            "object_position": null,
            "order": null,
            "overflow": null,
            "overflow_x": null,
            "overflow_y": null,
            "padding": null,
            "right": null,
            "top": null,
            "visibility": null,
            "width": null
          }
        },
        "9883006626c645f68c6080f7dfdeffd2": {
          "model_module": "@jupyter-widgets/controls",
          "model_name": "DescriptionStyleModel",
          "model_module_version": "1.5.0",
          "state": {
            "_model_module": "@jupyter-widgets/controls",
            "_model_module_version": "1.5.0",
            "_model_name": "DescriptionStyleModel",
            "_view_count": null,
            "_view_module": "@jupyter-widgets/base",
            "_view_module_version": "1.2.0",
            "_view_name": "StyleView",
            "description_width": ""
          }
        },
        "97de73a550e54a80ab8fbfffee929f1f": {
          "model_module": "@jupyter-widgets/controls",
          "model_name": "HBoxModel",
          "model_module_version": "1.5.0",
          "state": {
            "_dom_classes": [],
            "_model_module": "@jupyter-widgets/controls",
            "_model_module_version": "1.5.0",
            "_model_name": "HBoxModel",
            "_view_count": null,
            "_view_module": "@jupyter-widgets/controls",
            "_view_module_version": "1.5.0",
            "_view_name": "HBoxView",
            "box_style": "",
            "children": [
              "IPY_MODEL_c2bc22020a02405690b5d129ff3fa0d3",
              "IPY_MODEL_6adff1bdef974f869a73afa699b75232",
              "IPY_MODEL_b1081a4fd63b4184b262b3a5e7ef57f4"
            ],
            "layout": "IPY_MODEL_ba031d5a294844d2a85c80d8267e75a2"
          }
        },
        "c2bc22020a02405690b5d129ff3fa0d3": {
          "model_module": "@jupyter-widgets/controls",
          "model_name": "HTMLModel",
          "model_module_version": "1.5.0",
          "state": {
            "_dom_classes": [],
            "_model_module": "@jupyter-widgets/controls",
            "_model_module_version": "1.5.0",
            "_model_name": "HTMLModel",
            "_view_count": null,
            "_view_module": "@jupyter-widgets/controls",
            "_view_module_version": "1.5.0",
            "_view_name": "HTMLView",
            "description": "",
            "description_tooltip": null,
            "layout": "IPY_MODEL_16df23a518e74a37b0b59636380efd20",
            "placeholder": "​",
            "style": "IPY_MODEL_77b00c1cad8246a78c1efa910ba4e367",
            "value": "Map: 100%"
          }
        },
        "6adff1bdef974f869a73afa699b75232": {
          "model_module": "@jupyter-widgets/controls",
          "model_name": "FloatProgressModel",
          "model_module_version": "1.5.0",
          "state": {
            "_dom_classes": [],
            "_model_module": "@jupyter-widgets/controls",
            "_model_module_version": "1.5.0",
            "_model_name": "FloatProgressModel",
            "_view_count": null,
            "_view_module": "@jupyter-widgets/controls",
            "_view_module_version": "1.5.0",
            "_view_name": "ProgressView",
            "bar_style": "",
            "description": "",
            "description_tooltip": null,
            "layout": "IPY_MODEL_6a81ab31d7a7420d90993d6d8eab9713",
            "max": 1015,
            "min": 0,
            "orientation": "horizontal",
            "style": "IPY_MODEL_47cd4111206849e89ee1f6e050fcbde2",
            "value": 1015
          }
        },
        "b1081a4fd63b4184b262b3a5e7ef57f4": {
          "model_module": "@jupyter-widgets/controls",
          "model_name": "HTMLModel",
          "model_module_version": "1.5.0",
          "state": {
            "_dom_classes": [],
            "_model_module": "@jupyter-widgets/controls",
            "_model_module_version": "1.5.0",
            "_model_name": "HTMLModel",
            "_view_count": null,
            "_view_module": "@jupyter-widgets/controls",
            "_view_module_version": "1.5.0",
            "_view_name": "HTMLView",
            "description": "",
            "description_tooltip": null,
            "layout": "IPY_MODEL_6cc90af7a742444e9daf9baaf936f844",
            "placeholder": "​",
            "style": "IPY_MODEL_cf8068efbc5c460186f2b43af8f9a546",
            "value": " 1015/1015 [00:28&lt;00:00, 39.38 examples/s]"
          }
        },
        "ba031d5a294844d2a85c80d8267e75a2": {
          "model_module": "@jupyter-widgets/base",
          "model_name": "LayoutModel",
          "model_module_version": "1.2.0",
          "state": {
            "_model_module": "@jupyter-widgets/base",
            "_model_module_version": "1.2.0",
            "_model_name": "LayoutModel",
            "_view_count": null,
            "_view_module": "@jupyter-widgets/base",
            "_view_module_version": "1.2.0",
            "_view_name": "LayoutView",
            "align_content": null,
            "align_items": null,
            "align_self": null,
            "border": null,
            "bottom": null,
            "display": null,
            "flex": null,
            "flex_flow": null,
            "grid_area": null,
            "grid_auto_columns": null,
            "grid_auto_flow": null,
            "grid_auto_rows": null,
            "grid_column": null,
            "grid_gap": null,
            "grid_row": null,
            "grid_template_areas": null,
            "grid_template_columns": null,
            "grid_template_rows": null,
            "height": null,
            "justify_content": null,
            "justify_items": null,
            "left": null,
            "margin": null,
            "max_height": null,
            "max_width": null,
            "min_height": null,
            "min_width": null,
            "object_fit": null,
            "object_position": null,
            "order": null,
            "overflow": null,
            "overflow_x": null,
            "overflow_y": null,
            "padding": null,
            "right": null,
            "top": null,
            "visibility": "hidden",
            "width": null
          }
        },
        "16df23a518e74a37b0b59636380efd20": {
          "model_module": "@jupyter-widgets/base",
          "model_name": "LayoutModel",
          "model_module_version": "1.2.0",
          "state": {
            "_model_module": "@jupyter-widgets/base",
            "_model_module_version": "1.2.0",
            "_model_name": "LayoutModel",
            "_view_count": null,
            "_view_module": "@jupyter-widgets/base",
            "_view_module_version": "1.2.0",
            "_view_name": "LayoutView",
            "align_content": null,
            "align_items": null,
            "align_self": null,
            "border": null,
            "bottom": null,
            "display": null,
            "flex": null,
            "flex_flow": null,
            "grid_area": null,
            "grid_auto_columns": null,
            "grid_auto_flow": null,
            "grid_auto_rows": null,
            "grid_column": null,
            "grid_gap": null,
            "grid_row": null,
            "grid_template_areas": null,
            "grid_template_columns": null,
            "grid_template_rows": null,
            "height": null,
            "justify_content": null,
            "justify_items": null,
            "left": null,
            "margin": null,
            "max_height": null,
            "max_width": null,
            "min_height": null,
            "min_width": null,
            "object_fit": null,
            "object_position": null,
            "order": null,
            "overflow": null,
            "overflow_x": null,
            "overflow_y": null,
            "padding": null,
            "right": null,
            "top": null,
            "visibility": null,
            "width": null
          }
        },
        "77b00c1cad8246a78c1efa910ba4e367": {
          "model_module": "@jupyter-widgets/controls",
          "model_name": "DescriptionStyleModel",
          "model_module_version": "1.5.0",
          "state": {
            "_model_module": "@jupyter-widgets/controls",
            "_model_module_version": "1.5.0",
            "_model_name": "DescriptionStyleModel",
            "_view_count": null,
            "_view_module": "@jupyter-widgets/base",
            "_view_module_version": "1.2.0",
            "_view_name": "StyleView",
            "description_width": ""
          }
        },
        "6a81ab31d7a7420d90993d6d8eab9713": {
          "model_module": "@jupyter-widgets/base",
          "model_name": "LayoutModel",
          "model_module_version": "1.2.0",
          "state": {
            "_model_module": "@jupyter-widgets/base",
            "_model_module_version": "1.2.0",
            "_model_name": "LayoutModel",
            "_view_count": null,
            "_view_module": "@jupyter-widgets/base",
            "_view_module_version": "1.2.0",
            "_view_name": "LayoutView",
            "align_content": null,
            "align_items": null,
            "align_self": null,
            "border": null,
            "bottom": null,
            "display": null,
            "flex": null,
            "flex_flow": null,
            "grid_area": null,
            "grid_auto_columns": null,
            "grid_auto_flow": null,
            "grid_auto_rows": null,
            "grid_column": null,
            "grid_gap": null,
            "grid_row": null,
            "grid_template_areas": null,
            "grid_template_columns": null,
            "grid_template_rows": null,
            "height": null,
            "justify_content": null,
            "justify_items": null,
            "left": null,
            "margin": null,
            "max_height": null,
            "max_width": null,
            "min_height": null,
            "min_width": null,
            "object_fit": null,
            "object_position": null,
            "order": null,
            "overflow": null,
            "overflow_x": null,
            "overflow_y": null,
            "padding": null,
            "right": null,
            "top": null,
            "visibility": null,
            "width": null
          }
        },
        "47cd4111206849e89ee1f6e050fcbde2": {
          "model_module": "@jupyter-widgets/controls",
          "model_name": "ProgressStyleModel",
          "model_module_version": "1.5.0",
          "state": {
            "_model_module": "@jupyter-widgets/controls",
            "_model_module_version": "1.5.0",
            "_model_name": "ProgressStyleModel",
            "_view_count": null,
            "_view_module": "@jupyter-widgets/base",
            "_view_module_version": "1.2.0",
            "_view_name": "StyleView",
            "bar_color": null,
            "description_width": ""
          }
        },
        "6cc90af7a742444e9daf9baaf936f844": {
          "model_module": "@jupyter-widgets/base",
          "model_name": "LayoutModel",
          "model_module_version": "1.2.0",
          "state": {
            "_model_module": "@jupyter-widgets/base",
            "_model_module_version": "1.2.0",
            "_model_name": "LayoutModel",
            "_view_count": null,
            "_view_module": "@jupyter-widgets/base",
            "_view_module_version": "1.2.0",
            "_view_name": "LayoutView",
            "align_content": null,
            "align_items": null,
            "align_self": null,
            "border": null,
            "bottom": null,
            "display": null,
            "flex": null,
            "flex_flow": null,
            "grid_area": null,
            "grid_auto_columns": null,
            "grid_auto_flow": null,
            "grid_auto_rows": null,
            "grid_column": null,
            "grid_gap": null,
            "grid_row": null,
            "grid_template_areas": null,
            "grid_template_columns": null,
            "grid_template_rows": null,
            "height": null,
            "justify_content": null,
            "justify_items": null,
            "left": null,
            "margin": null,
            "max_height": null,
            "max_width": null,
            "min_height": null,
            "min_width": null,
            "object_fit": null,
            "object_position": null,
            "order": null,
            "overflow": null,
            "overflow_x": null,
            "overflow_y": null,
            "padding": null,
            "right": null,
            "top": null,
            "visibility": null,
            "width": null
          }
        },
        "cf8068efbc5c460186f2b43af8f9a546": {
          "model_module": "@jupyter-widgets/controls",
          "model_name": "DescriptionStyleModel",
          "model_module_version": "1.5.0",
          "state": {
            "_model_module": "@jupyter-widgets/controls",
            "_model_module_version": "1.5.0",
            "_model_name": "DescriptionStyleModel",
            "_view_count": null,
            "_view_module": "@jupyter-widgets/base",
            "_view_module_version": "1.2.0",
            "_view_name": "StyleView",
            "description_width": ""
          }
        },
        "bfdcb5a7bcd54535bfa8d692e675fea0": {
          "model_module": "@jupyter-widgets/controls",
          "model_name": "HBoxModel",
          "model_module_version": "1.5.0",
          "state": {
            "_dom_classes": [],
            "_model_module": "@jupyter-widgets/controls",
            "_model_module_version": "1.5.0",
            "_model_name": "HBoxModel",
            "_view_count": null,
            "_view_module": "@jupyter-widgets/controls",
            "_view_module_version": "1.5.0",
            "_view_name": "HBoxView",
            "box_style": "",
            "children": [
              "IPY_MODEL_6a8384cb0f8748938280a4af559f7d29",
              "IPY_MODEL_c1af4278cc484c6391cfab3f2fdee0e0",
              "IPY_MODEL_60adbe87c5b546379f8d34629b376911"
            ],
            "layout": "IPY_MODEL_303e4b532c9f4a898a8c119a03859221"
          }
        },
        "6a8384cb0f8748938280a4af559f7d29": {
          "model_module": "@jupyter-widgets/controls",
          "model_name": "HTMLModel",
          "model_module_version": "1.5.0",
          "state": {
            "_dom_classes": [],
            "_model_module": "@jupyter-widgets/controls",
            "_model_module_version": "1.5.0",
            "_model_name": "HTMLModel",
            "_view_count": null,
            "_view_module": "@jupyter-widgets/controls",
            "_view_module_version": "1.5.0",
            "_view_name": "HTMLView",
            "description": "",
            "description_tooltip": null,
            "layout": "IPY_MODEL_ef154c4202b541a0b9f0e110a480c4bb",
            "placeholder": "​",
            "style": "IPY_MODEL_dcc04555d24b45a1902417d95bdc9635",
            "value": "100%"
          }
        },
        "c1af4278cc484c6391cfab3f2fdee0e0": {
          "model_module": "@jupyter-widgets/controls",
          "model_name": "FloatProgressModel",
          "model_module_version": "1.5.0",
          "state": {
            "_dom_classes": [],
            "_model_module": "@jupyter-widgets/controls",
            "_model_module_version": "1.5.0",
            "_model_name": "FloatProgressModel",
            "_view_count": null,
            "_view_module": "@jupyter-widgets/controls",
            "_view_module_version": "1.5.0",
            "_view_name": "ProgressView",
            "bar_style": "success",
            "description": "",
            "description_tooltip": null,
            "layout": "IPY_MODEL_63f9e035bb3b4e779e86c2c35b7e682f",
            "max": 2,
            "min": 0,
            "orientation": "horizontal",
            "style": "IPY_MODEL_94c921b275d1456da77a6ca40e971029",
            "value": 2
          }
        },
        "60adbe87c5b546379f8d34629b376911": {
          "model_module": "@jupyter-widgets/controls",
          "model_name": "HTMLModel",
          "model_module_version": "1.5.0",
          "state": {
            "_dom_classes": [],
            "_model_module": "@jupyter-widgets/controls",
            "_model_module_version": "1.5.0",
            "_model_name": "HTMLModel",
            "_view_count": null,
            "_view_module": "@jupyter-widgets/controls",
            "_view_module_version": "1.5.0",
            "_view_name": "HTMLView",
            "description": "",
            "description_tooltip": null,
            "layout": "IPY_MODEL_58102179c1134a21b11c0df1f75e7641",
            "placeholder": "​",
            "style": "IPY_MODEL_46055aed31274decace66b30bd7ef571",
            "value": " 2/2 [00:00&lt;00:00, 70.26it/s]"
          }
        },
        "303e4b532c9f4a898a8c119a03859221": {
          "model_module": "@jupyter-widgets/base",
          "model_name": "LayoutModel",
          "model_module_version": "1.2.0",
          "state": {
            "_model_module": "@jupyter-widgets/base",
            "_model_module_version": "1.2.0",
            "_model_name": "LayoutModel",
            "_view_count": null,
            "_view_module": "@jupyter-widgets/base",
            "_view_module_version": "1.2.0",
            "_view_name": "LayoutView",
            "align_content": null,
            "align_items": null,
            "align_self": null,
            "border": null,
            "bottom": null,
            "display": null,
            "flex": null,
            "flex_flow": null,
            "grid_area": null,
            "grid_auto_columns": null,
            "grid_auto_flow": null,
            "grid_auto_rows": null,
            "grid_column": null,
            "grid_gap": null,
            "grid_row": null,
            "grid_template_areas": null,
            "grid_template_columns": null,
            "grid_template_rows": null,
            "height": null,
            "justify_content": null,
            "justify_items": null,
            "left": null,
            "margin": null,
            "max_height": null,
            "max_width": null,
            "min_height": null,
            "min_width": null,
            "object_fit": null,
            "object_position": null,
            "order": null,
            "overflow": null,
            "overflow_x": null,
            "overflow_y": null,
            "padding": null,
            "right": null,
            "top": null,
            "visibility": null,
            "width": null
          }
        },
        "ef154c4202b541a0b9f0e110a480c4bb": {
          "model_module": "@jupyter-widgets/base",
          "model_name": "LayoutModel",
          "model_module_version": "1.2.0",
          "state": {
            "_model_module": "@jupyter-widgets/base",
            "_model_module_version": "1.2.0",
            "_model_name": "LayoutModel",
            "_view_count": null,
            "_view_module": "@jupyter-widgets/base",
            "_view_module_version": "1.2.0",
            "_view_name": "LayoutView",
            "align_content": null,
            "align_items": null,
            "align_self": null,
            "border": null,
            "bottom": null,
            "display": null,
            "flex": null,
            "flex_flow": null,
            "grid_area": null,
            "grid_auto_columns": null,
            "grid_auto_flow": null,
            "grid_auto_rows": null,
            "grid_column": null,
            "grid_gap": null,
            "grid_row": null,
            "grid_template_areas": null,
            "grid_template_columns": null,
            "grid_template_rows": null,
            "height": null,
            "justify_content": null,
            "justify_items": null,
            "left": null,
            "margin": null,
            "max_height": null,
            "max_width": null,
            "min_height": null,
            "min_width": null,
            "object_fit": null,
            "object_position": null,
            "order": null,
            "overflow": null,
            "overflow_x": null,
            "overflow_y": null,
            "padding": null,
            "right": null,
            "top": null,
            "visibility": null,
            "width": null
          }
        },
        "dcc04555d24b45a1902417d95bdc9635": {
          "model_module": "@jupyter-widgets/controls",
          "model_name": "DescriptionStyleModel",
          "model_module_version": "1.5.0",
          "state": {
            "_model_module": "@jupyter-widgets/controls",
            "_model_module_version": "1.5.0",
            "_model_name": "DescriptionStyleModel",
            "_view_count": null,
            "_view_module": "@jupyter-widgets/base",
            "_view_module_version": "1.2.0",
            "_view_name": "StyleView",
            "description_width": ""
          }
        },
        "63f9e035bb3b4e779e86c2c35b7e682f": {
          "model_module": "@jupyter-widgets/base",
          "model_name": "LayoutModel",
          "model_module_version": "1.2.0",
          "state": {
            "_model_module": "@jupyter-widgets/base",
            "_model_module_version": "1.2.0",
            "_model_name": "LayoutModel",
            "_view_count": null,
            "_view_module": "@jupyter-widgets/base",
            "_view_module_version": "1.2.0",
            "_view_name": "LayoutView",
            "align_content": null,
            "align_items": null,
            "align_self": null,
            "border": null,
            "bottom": null,
            "display": null,
            "flex": null,
            "flex_flow": null,
            "grid_area": null,
            "grid_auto_columns": null,
            "grid_auto_flow": null,
            "grid_auto_rows": null,
            "grid_column": null,
            "grid_gap": null,
            "grid_row": null,
            "grid_template_areas": null,
            "grid_template_columns": null,
            "grid_template_rows": null,
            "height": null,
            "justify_content": null,
            "justify_items": null,
            "left": null,
            "margin": null,
            "max_height": null,
            "max_width": null,
            "min_height": null,
            "min_width": null,
            "object_fit": null,
            "object_position": null,
            "order": null,
            "overflow": null,
            "overflow_x": null,
            "overflow_y": null,
            "padding": null,
            "right": null,
            "top": null,
            "visibility": null,
            "width": null
          }
        },
        "94c921b275d1456da77a6ca40e971029": {
          "model_module": "@jupyter-widgets/controls",
          "model_name": "ProgressStyleModel",
          "model_module_version": "1.5.0",
          "state": {
            "_model_module": "@jupyter-widgets/controls",
            "_model_module_version": "1.5.0",
            "_model_name": "ProgressStyleModel",
            "_view_count": null,
            "_view_module": "@jupyter-widgets/base",
            "_view_module_version": "1.2.0",
            "_view_name": "StyleView",
            "bar_color": null,
            "description_width": ""
          }
        },
        "58102179c1134a21b11c0df1f75e7641": {
          "model_module": "@jupyter-widgets/base",
          "model_name": "LayoutModel",
          "model_module_version": "1.2.0",
          "state": {
            "_model_module": "@jupyter-widgets/base",
            "_model_module_version": "1.2.0",
            "_model_name": "LayoutModel",
            "_view_count": null,
            "_view_module": "@jupyter-widgets/base",
            "_view_module_version": "1.2.0",
            "_view_name": "LayoutView",
            "align_content": null,
            "align_items": null,
            "align_self": null,
            "border": null,
            "bottom": null,
            "display": null,
            "flex": null,
            "flex_flow": null,
            "grid_area": null,
            "grid_auto_columns": null,
            "grid_auto_flow": null,
            "grid_auto_rows": null,
            "grid_column": null,
            "grid_gap": null,
            "grid_row": null,
            "grid_template_areas": null,
            "grid_template_columns": null,
            "grid_template_rows": null,
            "height": null,
            "justify_content": null,
            "justify_items": null,
            "left": null,
            "margin": null,
            "max_height": null,
            "max_width": null,
            "min_height": null,
            "min_width": null,
            "object_fit": null,
            "object_position": null,
            "order": null,
            "overflow": null,
            "overflow_x": null,
            "overflow_y": null,
            "padding": null,
            "right": null,
            "top": null,
            "visibility": null,
            "width": null
          }
        },
        "46055aed31274decace66b30bd7ef571": {
          "model_module": "@jupyter-widgets/controls",
          "model_name": "DescriptionStyleModel",
          "model_module_version": "1.5.0",
          "state": {
            "_model_module": "@jupyter-widgets/controls",
            "_model_module_version": "1.5.0",
            "_model_name": "DescriptionStyleModel",
            "_view_count": null,
            "_view_module": "@jupyter-widgets/base",
            "_view_module_version": "1.2.0",
            "_view_name": "StyleView",
            "description_width": ""
          }
        }
      }
    }
  },
  "cells": [
    {
      "cell_type": "markdown",
      "metadata": {
        "id": "view-in-github",
        "colab_type": "text"
      },
      "source": [
        "<a href=\"https://colab.research.google.com/github/mrslacklines/covidqa/blob/main/covidqa.ipynb\" target=\"_parent\"><img src=\"https://colab.research.google.com/assets/colab-badge.svg\" alt=\"Open In Colab\"/></a>"
      ]
    },
    {
      "cell_type": "markdown",
      "source": [
        "<center>\n",
        "<img src=\"https://drive.google.com/uc?id=1gF_CtQygk1RDUdq1IuUsvOyNSf4nWIad\" alt=\"covidqa\" width=\"200\"/>\n",
        "</center>\n",
        "\n",
        "# NLP Developer - zadanie rekrutacyjne\n",
        "\n",
        "Oryginalna treść zadania:\n",
        "\n",
        "https://docs.google.com/document/d/1EgZno0N_Lggn8DTYu_kF7R0CaFr9_uoc-DhINycH_M0/edit?usp=sharing\n",
        "\n",
        "## Problem:\n",
        "Dysponujesz zbiorem dokumentów tekstowych, które chciałabyś/chciałbyś wyszukiwać za pomocą zapytań w postaci naturalnych pełnych zdań, które powiązane są z tym czego dotyczą same dokumenty. \n",
        "\n",
        "## Przykład:\n",
        "**użytkownik**: *skąd wezmę wynik testu?*\n",
        "\n",
        "**system:** (odpowiedź na pytanie: “Gdzie znajdę wynik testu?”) Informację o wyniku testu znajdziesz na Internetowym Koncie Pacjenta.(...)\n",
        "\n",
        "Przykładowy zbiór pytań i odpowiedzi:\n",
        "QA_covid - Rekrutacja NLP Deweloper\n",
        "https://docs.google.com/spreadsheets/d/1NqcXl4m5ci9QgnrMBOoQ3Nis1hwxIpg37QblVvIGhwU/edit?usp=sharing (kopia)\n",
        "\n",
        "## Twoje zadanie:\n",
        "Zaprojektuj (wybierz algorytmy, wypisz narzędzia z których byś skorzystała/skorzystał) 3 różne rozwiązania problemu.\n",
        "Zaimplementuj jedno z zaprojektowanych rozwiązań.\n",
        "\n",
        "Nie zależy nam na największej skuteczności zaimplementowanego rozwiązania, ale na tym żeby zobaczyć w jaki sposób pracujesz, jak projektujesz oraz implementujesz rozwiązania.\n",
        "\n",
        "Napisz jakie jeszcze operacje można byłoby wykonać, jakich narzędzi użyć żeby poprawić wyniki osiągnięte przez Twoją implementację.\n",
        "\n",
        "Jeżeli brakuje w zadaniu jakiś założeń - sama/sam zrób założenie i skomentuj je w notebooku. Jeżeli będziesz miała/miał jakiekolwiek pytania/wątpliwości - napisz na aleksander.obuchowski@talkie.ai\n",
        "\n",
        "Prześlij rozwiązanie w formie notebooka na Google Colab, poprosimy Cię o przedstawienie rozwiązania na naszym następnym spotkaniu.\n"
      ],
      "metadata": {
        "id": "eTUZ__oEBtZI"
      }
    },
    {
      "cell_type": "markdown",
      "source": [
        "<center>\n",
        "<img src=\"https://drive.google.com/uc?id=19XZZAygrwhG0I1Zh_cRz85s8BBXT8R9H\" alt=\"covidqa\" width=\"100\"/>\n",
        "</center>\n",
        "</br>\n",
        "\n",
        "# Przyjęte założenia:\n",
        "\n",
        "1. W przykładzie podanym w treści zadania odpowiedź systemu zawiera:\n",
        "  1. Treść pytania o najbardziej zbliżonej treści ze zbioru pytań i odpowiedzi i\n",
        "  2. pierwsze zdanie odpowiedzi.\n",
        "  \n",
        "  W tym przypadku założyłem, że opdowiedź została skrócona w celu poprawy czytelności a nie jako sugestia budowy systemu *Extractive* QA.\n",
        "\n",
        "2. Opis zadania zawiera również stwierdzenie: *Nie zależy nam na największej skuteczności zaimplementowanego rozwiązania,*\n",
        "\n",
        "  Skupiłem się raczej na rozważeniu różnych rozwiązań oraz wypisaniu możliwych usprawnień oraz ich wad i zalet niż na fine-tuningu modelu.\n",
        "\n",
        "3. Brak wzmianek o konieczności formalnej ewaluacji modelu oraz założenie 2. przyjąłem dosłownie i potraktowałem to z najniższym priorytetem (opcjonalnie), mając pełną świadomość, że rozwój modelu bez jakiejkolwiek ewaluacji nawet już na początkowym etapie jest zawsze złą praktyką.\n",
        "\n",
        "4. Założyłem, że zależy nam na jak najszybszym rozwiązaniu problemu biznesowego i dostarczenie względnie użytecznego MVP, którego użytkownikiem końcowym będzie np. gość portalu e-Pacjent lub podobnego, który szuka odpowiedzi na typowe pytanie dotyczące wirusa w trakcie trwania pandemii."
      ],
      "metadata": {
        "id": "uh5E7F8OCrg_"
      }
    },
    {
      "cell_type": "markdown",
      "source": [
        "<center>\n",
        "<img src=\"https://drive.google.com/uc?id=19XZZAygrwhG0I1Zh_cRz85s8BBXT8R9H\" alt=\"covidqa\" width=\"100\"/>\n",
        "</center>\n",
        "</br>\n",
        "\n",
        "# TL;DR\n",
        "[Do kodu](#solution)\n",
        "\n",
        "# Rozwiązania\n",
        "\n",
        "Możliwe rozwiązania problemu można dość arbitralnie podzielić na:\n",
        "- rozwiązania oparte o **symboliczną reprezentację wiedzy**,\n",
        "- metody oparte o **wyszukiwanie w przestrzeni wektorów cech**:\n",
        "  - oparte o klasyczne nielingwistyczne metody reprezentacji dokumentów, np. BOW i **TFIDF**,\n",
        "  - oparte o reprezentację dokumentów za pomocą sieci neuronowych (**embeddings**), (doc2vec, transformers, sentence transformers),\n",
        "\n",
        "Granica pomiędzy tymi typami rozwiązań jest umowna i jest to raczej kontinuum technik, które są bardzo często łączone w celu adresowania różnych aspektów finalnego systemu oraz w zależności od natury problemu. Dlatego należałoby rozpatrzyć też trzecią kategorię, czyli:\n",
        "\n",
        "- **Rozwiązania hybrydowe**, łączące cechy pozostałych.\n",
        "\n",
        "Dodatkowo myślę, że należy wspomnieć o rozwiązaniach typu\n",
        "- managed cloud services,\n",
        "\n",
        "jak np. różne cloudowe implementacje ElasticSearch, czy hostowane w kontenerach Solr/Lucene. Ciekawym rozwiązaniem jest też np. Amazon Wisdom:\n",
        "\n",
        "https://aws.amazon.com/connect/wisdom/\n",
        "\n",
        "Jest to gotowe w pełni cloudowe, gotowe rozwiązanie dla customer service służące do automatycznego przeszukiwania baz wiedzy, m.in. właśnie dokumentów FAQ.\n",
        "\n",
        "Rozpatrując możliwe rozwiązania prawie całkowicie pominiemy również systemy generatywne. Są to metody, które praktycznie zawsze wymagają dodatkowego uczenia modeli. W naszym przypadku dysponujemy bardzo małym zbiorem danych. Można by oczywiście pokusić się o znalezienie danych treningowych w sieci ale jest to rozwiązanie ryzykowne, które prawdopodobnie nie pozwoliło by szybko osiągnąć akceptowalnych rezultatów.\n",
        "\n",
        "Skupimy się głównie na metodach wyszukiwawczych. W tym przypadku zwykle dysponujemy jakąś bazą wiedzy jak np. nasz zbiór FAQ, w którym wyszukiwane są odpowiedzi na pytania. Wyszukiwanie może odbywać na zasadzie próby odnalezienia w bazie (1) pytań lub (2) odpowiedzi pasujących do pytania zadanego przez użytkownika. Mówimy wtedy o wyszukiwaniu symetrycznym lub asymetrycznym. Ja skupię się na rozwiązaniach symetrycznych, czyli będę starał się odnaleźć jak najbardziej podobne pytanie w naszej bazie. Przetestowanie działania wyszukiwania asymetrycznego jest oczywiście kuszące ale z braku czasu musimy je pominąć.\n",
        "\n",
        "Zacznę jednak od krótkiego omówienia rozwiązania czysto lingwistycznego (w końcu nie mógłbym sobie tego podarować :)) żeby mieć to już z głowy i móc przejść do rozwiązań czysto pragmatycznych.\n",
        "\n",
        "</br>\n",
        "<center>\n",
        "<img src=\"https://drive.google.com/uc?id=19XZZAygrwhG0I1Zh_cRz85s8BBXT8R9H\" alt=\"covidqa\" width=\"100\"/>\n",
        "</center>\n",
        "</br>\n",
        "\n",
        "## Rozwiązanie oparte o symboliczną reprezentację wiedzy (propozycja nr 1)\n",
        "\n",
        "W niektórych przypadkach opłaca się zbudować specjalną symboliczną reprezentację wiedzy zawartej w dostępnych dokumentach. W tym celu wykorzystuje się szereg metod z zakresu *klasycznego* NLP i Information Retrieval, np. wykrywanie bytów nazwanych i parsing zależnościowy.\n",
        "\n",
        "Informacje te wykorzystywane są do ekstrakcji obiektów oraz relacji pomiędzy nimi i jej zapisu np. za pomocą jakiegoś języka logiki; rachunku predykatów, logiki modalnej i temporalnej. Mogą to też być np. trójki (*triplets*) Object Attribute Value, sieci semantyczne podobne do Wordnetu tylko oparte o inne interesujące nas relacje, czy też specjalnie zaprojektowane struktury danych/formalizmy takie jak ramy semantyczne (np. CxG) czy ontologie.\n",
        "\n",
        "Ważnym elementem tak wdrożonego rozwiązania jest też przetwarzanie samych pytań na podstawie różnego rodzaju taxonomii. Także tutaj dostępne są różne rozwiązania i formalizmy, jednak cel we wszystkich przypadkach jest taki sam -- wykrycie i formalna symboliczna reprezentacja typu pytania i rodzaju odpowiedzi (np. \"Czy Sokrates jest ateńczykiem?\" `-> ENTITY|PERSON|BIRTHPLACE`).\n",
        "\n",
        "Po otrzymaniu i przetworzeniu pytania system stara się wyłonić kandydatów wśród dokumentów/rekordów w bazie wiedzy a następnie wyekstrahować wyszukiwane informacje i przedstawić je w odpowiedniej formie korzystając z różnego rodzaju reguł formalnych i heurystyk.\n",
        "\n",
        "### Zalety i wady\n",
        "Jak widać już na pierwszy rzut oka to rozwiązanie wymaga bardzo dużych nakładów czasu oraz mozolnej pracy, mimo tego, że możliwa jest oczywiście częściowa automatyzacja budowy bazy wiedzy oraz zaprzężenie technik neuralnych do całego procesu.\n",
        "Parsing zależnościowy i inne symboliczne metody przetwarzania rzadko osiągają bardzo dobre rezultaty i zdarza się sporo pomyłek, które tolerowalne są w metodach statystycznych ale dość szybko okazują się dużym problemem w metodach symbolicznych.\n",
        "Symboliczna oraz regułowa natura reprezentacji wiedzy oraz sposobu jej przetwarzania sprawia jednak, że gotowy system jest w pełni *wyjaśnialny* (*explainable*) ale jest on też niezbyt elastyczny i posiada bardzo ograniczone możliwości generalizacji.\n",
        "\n",
        "### Technologie\n",
        "\n",
        "Ilość narzędzi i zasobów do symbolicznego przetwarzania języka polskiego jest wbrew pozorom całkiem spora. Zespół badaczy z ZIL IPI PANu oraz projektu CLARIN a także wielu pokrewnych projektów i grup badawczych udostępnia je na otwartych licencjach (co może być zarówno ich wadą jak i zaletą).\n",
        "\n",
        "http://clarin-pl.eu\n",
        "\n",
        "http://zil.ipipan.waw.pl\n",
        "\n",
        "Warto tutaj wymienić:\n",
        "- Polski Wordnet\n",
        "- Morfeusz\n",
        "- Concraft\n",
        "- polski Dependency Parsing i polskie Treebanki\n",
        "- Polski model SpaCy\n",
        "\n",
        "W pierwszej iteracji spróbowałbym zbudować prosty pipeline używając do tego polskiego modelu SpaCy, który opiera się na rozwiązaniach rozwijanych przez CLARIN i IPI PAN i udostępnia je pod spójnym Pythonowym API. Dzięki temu ograniczyłbym ilość bilbiotek i frameworków. SpaCy umożliwia bardzo szybkie przeprocesowanie wszystkich dokumentów w bazie i zbudowanie grafu zależnościowego. Na tej podstawie możemy napisać zestaw kilku-kilkunastu reguł pod postacią funkcji Pythona wykorzystujących `DependencyMatcher`, które pozwolą nam wydobyć wszystkie możliwe (n-członowe) predykaty zdaniowe (typy relacji) oraz ich argumenty (również potencjalnie wieloczłonowe np. pod postacią fraz rzeczownikowych). W ten sposób otrzymamy algorytm, który pozwoli nam wygenerować graf relacji i ich obiektów - naszą formalną bazę wiedzy.\n",
        "W następnym kroku należało by przygotować prosty algorytm przetwarzający typy pytań i być może użyć jakiegoś algorytmu do wykrywania *focusu* pytania. Na tej podstawie dość łatwo byłoby odszukać interesujące nas relacje oraz ich argumenty. Pozostaje jeszcze kwestia wygenerowania odpowiedzi. Na pewno jednak nie jest to praca na tydzień. Rezultaty też, tak jak pisałem, były by wątpliwe, szczególnie w pierwszej iteracji. Jest to natomiast technika, którą warto rozważyć jako np. moduł produkcyjnego systemu.\n",
        "\n",
        "\n",
        "</br>\n",
        "<center>\n",
        "<img src=\"https://drive.google.com/uc?id=19XZZAygrwhG0I1Zh_cRz85s8BBXT8R9H\" alt=\"covidqa\" width=\"100\"/>\n",
        "</center>\n",
        "</br>\n",
        "\n",
        "\n",
        "## Rozwiązania oparte o wyszukiwanie w przestrzeni wektorów cech\n",
        "\n",
        "Wymienione poniżej rozwiązania są wariantami tego samego podejścia polegającego na wyszukaniu w bazie najbardziej podobnego pytania i zwróceniu przypisanej do niego odpowiedzi (bądź ekstrakcji potencjalnie relewantnego fragmentu)\n",
        "\n",
        "\n",
        "<a name=\"tfidf\"></a>\n",
        "## Wyszukiwanie oparte o TF-IDF (propozycja nr 2)\n",
        "\n",
        "Opisywana tutaj klasa możliwych rozwiązań opiera się o algorytmy używane w klasycznym przetwarzaniu tekstu. Stosują one popularne od wielu lat metody parametryzacji dokumentów tekstowych za pomocą zliczania częstotliwości występujących w nich słów. Stosuje się tu szereg metod, w tym także core'owych metod NLP. W przypadku syntetycznego (fleksyjnego) języka polskiego opłacalne jest bowiem sprowadzenie słów do form podstawowych. Można to zrobić metodą *płytką* poprzez stemming lub *głęboką* za pomocą lemmatyzacji. W ten sposób nie będziemy zliczać wszystkich występujących w dokumentach form osobno, zaoszczędzimy pamięć, zmniejszymy rozmiar finalnego wektora i na pewno poprawimy wyniki. Dodatkowo, okazuje się, że warto odfiltrować tzw. *stopwords*. Są to słowa bardzo częste, niosące bardzo małe znaczenie jak np. zaimki osobowe, przyimki itd. (ilokroć podaję ten przykład, jako językoznawca czuję duży dyskomfort, bo np. zaimek osobowy \"ja\" jest przedmiotem dyskusji filozofów i myślicieli od tysięcy lat - jego znaczenie stało się kwestią poruszaną nawet we współczesnej fizyce pod postacią problemu obserwatora :)).\n",
        "Na tej podstawie możemy najzwyczajniej zliczyć wystąpienia wszystkich słów z naszego *vocabulary* w każdym dokumencie i zapisać je pod postacią wektora rzadkiego o długości równej liczności naszego *vocabulary*, dodatkowo zliczając np. ich wystąpienia. Usprawnieniem może być użycie n-gramów, które umożliwią nam reprezentację lokalnego (bezpośredniego) konktekstu i stanowią bardzo proste ale potężne ulepszenie. Tutaj oczywiście pojawia się problem związany z małą ilościa przykładów i rosnącym rozmiarem wektora cech.\n",
        "Kolejną modyfikacją tej metody jest zastosowanie parametryzacji poprzez wyliczenie TF-IDF (Text Frequency - Inverse Document Frequency). W tym przypadku mierzymy stosnek częstości słów w danym dokumencie oraz ich ogólnej częstości we wszystkich dokumentach. W ten prosty sposób możemy otrzymać reprezentację wektorową, która reprezentuje słowa charakterystyczne dla danego dokumentu w kontekście frekwencji w całym naszym zbiorze wszystkich dokumentów. Tutaj też możemy wykorzystać nie tylko pojedyncze słowa ale i n-gramy.\n",
        "Tak przygotowaną reprezentację wektorową można wykorzystać do bardzo efektywnego wyszukiwania za pomocą miar podobieństwa/odległości (np. podobieństwa cosinusowego). Przechowując takie reprezentacje tekstu w bazie wektorowej, która dodatkowo umożliwia wykonywanie kwerend w oparciu o te miary jest bardzo efektywne i może zostać szybko zdeployowane w postaci taniego i wysokoskalowalnego rozwiązania chmurowego (np. serverless)\n",
        "Takie właśnie klasyczne rozwiązanie naszego problemu (bez cloud deploymentu :)) zaimplementujemy jako benchmark, z którym porównamy metody oparte o reprezentacje wektorowe generowane przez najlepsze sieci neuronowe.\n",
        "\n",
        "### Zalety i wady\n",
        "Rozwiązanie to jest bardzo proste i szybkie do zaimplementowania. To w zasadzie dwie linijki w Pythonowym frameworku SKLearn. Jest ono bardzo łatwo *wyjaśnialne* oraz bardzo elastyczne. Posiada bardzo dużą zdolność generalizowania. Co prawda wyliczanie TF-IDF jest dość wolne ale przy infrastrukturze i zasobach, której wymaga współczesny deep learning, myślę, że to już trochę wstyd o tym wspominać.\n",
        "Najwiekszą wadą tego rozwiązania jest ograniczona możliwość reprezentacji znaczenia. Jest ona minimalna bo zawęża się tylko do bezpośredniego kontekstu (i to w najlepszym wypadku).\n",
        "\n",
        "### Technologie\n",
        "\n",
        "- SKLearn\n",
        "- SpaCy\n",
        "- NLTK\n",
        "\n",
        "\n",
        "</br>\n",
        "<center>\n",
        "<img src=\"https://drive.google.com/uc?id=19XZZAygrwhG0I1Zh_cRz85s8BBXT8R9H\" alt=\"covidqa\" width=\"100\"/>\n",
        "</center>\n",
        "</br>\n",
        "\n",
        "\n",
        "## Wyszukiwanie semantyczne oparte o Sentence Embeddings (propozycja nr 3)\n",
        "\n",
        "Druga klasa rozwiązań opartych o wyszukiwanie polega na *representation learningu* i trzeba tutaj oczywiście koniecznie wspomnieć o Gensim Word2Vec i wszystkich jego następcach i odmianach jak Doc2Vec, Sent2Vec czy np. Graph2Vec. Oryginalny Gensim to w zasadzie dwa modele, stanowiące niejako swoje lustrzane odbicie; Skip-Gram oraz Continuous Bag Of Words.\n",
        "\n",
        "Rok 2023 należy jednak w pełni do sieci typu Transformer i opartych o te architektury Pretrained Large Language Models (PLLMs). Podobnie jak Doc2Vec pozwalają one wygenerować parametryczną reprezantację dokumentu tekstowego w postaci *gęstego* wektora. Charakter tych modeli sprawia, że wynikowy (w zasadzie dość nieduży; bo o długości np. 768) wektor w zaskakujący sposób oddaje charakter języka i kontekstualne (distrybucyjne) znaczenie słów lub innych tokenów.\n",
        "\n",
        "Taka reprezentacja dokumentów umożliwia ich wyszukiwanie i porównywanie za pomocą tych samych miar jak w przypadku rozwiązania opartego np. o TF-IDF.\n",
        "\n",
        "**Poniżej, jako rozwiązanie zadania, znajduje się prosta implementacja metody opartej o Sentence-Transformers, indeksowanie FAISS i badania podobieństwa cosinusowego**\n",
        "\n",
        "[Do kodu](#solution)\n",
        "\n",
        "### Zalety i wady\n",
        "Jest to chyba najdynamiczniej rozwijająca się dziedzina Machine Learningu. Powstało i wciąż powstaje wiele wspaniałych bibliotek oraz publicznie dostępnych modeli. Jednym z najważniejszych ekosystemów jest HuggingFace. Język polski pozostaje niestety jak zwykle lekko z tyłu i chociaż istnieją wytrenowane modele oparte o te najpopularniejsze architektury, to daleko im do tych dla języka angielskiego czy chińskiego. Modele te są zwykle bardzo duże, koszt ich treningu jest wielki. Jesteśmy więc zdani na to co jest dostępne.\n",
        "Transfer learning otwiera przed nami zupełnie nowe możliwości. Możemy wykorzystać core polskiego HerBerta wytrenowanego na MLM i dodać mu *HEAD* np. do QuestionAnsweringu, który będzie wymagał tylko małego dotrenowania i uzyskamy potężne rozwiązanie stosunkowo małym kosztem.\n",
        "Zarówno wad i zalet jest tutaj bardzo dużo i trudno wyczerpać temat w ramach kilku zdań.\n",
        "\n",
        "### Technologie\n",
        "\n",
        "- HuggingFace\n",
        "\n",
        "Skromne rozwiązanie oparte o wyszukiwanie na podstawie embeddings zaprezentowane jest w [sekcji z kodem](#solution).\n",
        "\n",
        "\n",
        "</br>\n",
        "<center>\n",
        "<img src=\"https://drive.google.com/uc?id=19XZZAygrwhG0I1Zh_cRz85s8BBXT8R9H\" alt=\"covidqa\" width=\"100\"/>\n",
        "</center>\n",
        "</br>\n",
        "\n",
        "\n",
        "## Usprawnienia i inne pomysły\n",
        "\n",
        "Ponieważ i tak jest tu zbyt dużo tekstu jak na rozwiązanie zadania praktycznego to wymienie potencjalne usprawnienia w formie punktów. Ostatnie z nich można potraktować jako 4 i 5 dodatkowy sposób rozwiązania problemu.\n",
        "\n",
        "- Rozwijanie zapytań poprzez parafrazę\n",
        "- Dodanie modułu rule-based dla najbardziej typowych pytań, np. w oparciu o słowa kluczowe albo nawet RegExpy\n",
        "- Post-processing zwracanych odpowiedzi\n",
        "- Wyłanianie n-kandydatów i dodatkowy algorytm do ratingu kandydatów\n",
        "- Klasteryzacja podobnych zdań i wybór odpowiedzi spośrod k-najlepszych dopasowań\n",
        "- Wyszukiwanie poprzez podobieństwo semantyczne na w zbiorze pojedynczych zdań ze wszystkich odpowiedzi\n",
        "- Rozwój metody do ewaluacji algorytmu\n",
        "- Fajnie było by zrobić mini grid search przez różne modele i miary podobieństwa/odległości jak:\n",
        "  - Podobieństwo cosinusowe,\n",
        "  - Euclidean distance\n",
        "  - Jaccard Index\n",
        "  - Tanimoto\n",
        "  - Dice\n",
        "- Można by pokusić się o próbę transfer learningu jakiegoś z dostępnych modeli. Może mógłby to być model domenowy (BioMed) albo model typowo QuestionAnsweringowy?\n",
        "- Widziałem też rozwiązanie dla francuskiego, w którym wykorzystano model dla języka angielskiego w połączeniu z modelem do tłumaczenia maszynowego.\n",
        "- Jest trochę angielskich datasetów dla Covid19 i/lub dla Biomed QA. Może udałoby się uzyskać ciekawe rezultaty tłumacząc taki dataset automatycznie na polski i wyuczając na nim jakiś model.\n",
        "- Są też różne datasety QA dla polskiego a nawet framework testowy KLEJ, którym nie poświęciłem należytej uwagi.\n",
        "- Może warto było by np. wytrenować (albo nawet przetrenować) polskiego BERTa (albo jakiś inny encoder) na naszym zbiorze pytań i parafrazować pytania do postaci postaci zamaskowanych odpowiedzi konwertując problem na typowy MLM, np. *Gdzie mogę zrobić test na koronawirusa?* `->` `Test na koronawirusa możesz zrobić <MASK>`?\n",
        "- **Propozycja nr 4**: Zbudowanie kilku modeli w oparciu o różne metody oraz modele (np. TFIDF, Doc2Vec, BERT, SentenceBert itp.) i zestackowanie ich w ramach jednego algorytmu. Na końcu można by wykorzystać nawet tak proste rozwiązanie jak głosowanie większościowe. Kilka słabych modeli razem jest lepsze niż najlepszy z nich osobno. Można by pokusić się też o meta-learnera na końcu tego stacku albo negative sampling i sieci syjamskie.. Tylko tutaj znów niezbędne okazują się dane treningowe.\n",
        "- **Propozycja nr 5**: Pewnie fajnie byłoby porównać jakie rezultaty osiągają wspomniane już wcześniej usługi chmurowe np. GCP, AWS czy np. wykorzystać API Google Knowledge Base Search albo WolframAlpha (chociaż Wolfram chyba nie działa z polskim).\n",
        "\n",
        "</br>\n",
        "<center>\n",
        "<img src=\"https://drive.google.com/uc?id=19XZZAygrwhG0I1Zh_cRz85s8BBXT8R9H\" alt=\"covidqa\" width=\"100\"/>\n",
        "</center>\n",
        "</br>"
      ],
      "metadata": {
        "id": "irxT3mbyI60i"
      }
    },
    {
      "cell_type": "markdown",
      "source": [
        "<a name=\"solution\"></a>\n",
        "# Rozwiązanie oparte o Semantic Search na podstawie Sentence Embeddings\n",
        "\n",
        "To rozwiązanie wydało mi się najbardziej sensowne ponieważ:\n",
        "\n",
        "1. Pozwala szybko uzyskać względnie dobre rezultaty\n",
        "2. Było łatwe do zaimplementowania dzięki wykorzystaniu HuggingFace\n",
        "3. Dostępne modele dla polskiego są wystarczające dla tego rozwiązania, jest ich kilka i można było je łatwo przetestować\n",
        "4. Treść zadania nie narzuca budowy systemu typu Generative QA czy nawet Extractive QA."
      ],
      "metadata": {
        "id": "7uMOO1KIidWD"
      }
    },
    {
      "cell_type": "markdown",
      "source": [
        "Korzystam głównie z HuggingFace Transformers. Instaluję biblioteki, którymi się posługiwałem."
      ],
      "metadata": {
        "id": "fYktYBODkbNb"
      }
    },
    {
      "cell_type": "code",
      "source": [
        "%%capture\n",
        "\n",
        "!pip install transformers accelerate sentence_transformers datasets faiss-gpu textstat\n",
        "!python -m spacy download pl_core_news_sm"
      ],
      "metadata": {
        "id": "SqQ2kDIjpUay"
      },
      "execution_count": 1,
      "outputs": []
    },
    {
      "cell_type": "markdown",
      "source": [
        "Importuję zainstalowane biblioteki."
      ],
      "metadata": {
        "id": "2uM4lb-3Hu0L"
      }
    },
    {
      "cell_type": "code",
      "execution_count": 2,
      "metadata": {
        "id": "F9_zqvonI9d8"
      },
      "outputs": [],
      "source": [
        "import re\n",
        "\n",
        "import gspread\n",
        "import matplotlib.pyplot as plt\n",
        "import nltk\n",
        "import numpy as np\n",
        "import pandas as pd\n",
        "import spacy\n",
        "import textstat\n",
        "import torch\n",
        "\n",
        "from datasets import Dataset\n",
        "from google.auth import default\n",
        "from google.colab import auth\n",
        "from sentence_transformers import SentenceTransformer, util\n",
        "from sklearn.feature_extraction.text import TfidfVectorizer\n",
        "from sklearn.metrics.pairwise import cosine_similarity\n",
        "from spacy.lang.pl.examples import sentences \n",
        "from transformers import AutoTokenizer, AutoModel, pipeline"
      ]
    },
    {
      "cell_type": "markdown",
      "source": [
        "Tutaj definiuję kilka *globalny stałych* (zmiennych), tak żeby nie hardcodować np. ścieżki do pliku z danymi czy nazwy checkpointa HF, pobieram dane NLTK, itd."
      ],
      "metadata": {
        "id": "6Nq3xQscHz5W"
      }
    },
    {
      "cell_type": "code",
      "source": [
        "DATA_FILENAME = \"QA_covid - Rekrutacja NLP Deweloper\"\n",
        "SHEET_NAME = \"q_a (1)\"\n",
        "MODEL_CHECKPOINT = \"Voicelab/sbert-large-cased-pl\"\n",
        "\n",
        "\n",
        "nltk.download('punkt')\n",
        "\n",
        "device = torch.device(\"cuda\")"
      ],
      "metadata": {
        "id": "XenN8FzpKZvw",
        "colab": {
          "base_uri": "https://localhost:8080/"
        },
        "outputId": "50421f0d-61e2-4d15-f72e-a54ea854cbfd"
      },
      "execution_count": 3,
      "outputs": [
        {
          "output_type": "stream",
          "name": "stderr",
          "text": [
            "[nltk_data] Downloading package punkt to /root/nltk_data...\n",
            "[nltk_data]   Package punkt is already up-to-date!\n"
          ]
        }
      ]
    },
    {
      "cell_type": "markdown",
      "source": [
        "Loguje się do Google Drive gdzie zapisałem arkusz z pytaniami i odpowiedziami."
      ],
      "metadata": {
        "id": "qkYlVtT2IF1-"
      }
    },
    {
      "cell_type": "code",
      "source": [
        "auth.authenticate_user()\n",
        "creds, _ = default()\n",
        "gc = gspread.authorize(creds)"
      ],
      "metadata": {
        "id": "5dVgAf9GLD2n"
      },
      "execution_count": 4,
      "outputs": []
    },
    {
      "cell_type": "markdown",
      "source": [
        "Dzieki temu mogę w kilku linijkach kodu odczytać arkusz prosto z chmury i wczytać go jako DataFrame Pandas."
      ],
      "metadata": {
        "id": "ZfEyqZhGIPJx"
      }
    },
    {
      "cell_type": "code",
      "source": [
        "worksheet = gc.open(DATA_FILENAME).sheet1\n",
        "\n",
        "df = pd.DataFrame.from_records(worksheet.get_all_values())\n",
        "df.columns = df.iloc[0]\n",
        "df.drop(index=0, inplace=True)\n",
        "df_backup = df.copy()\n",
        "df"
      ],
      "metadata": {
        "id": "Xyv0w6tjKNwd",
        "colab": {
          "base_uri": "https://localhost:8080/",
          "height": 424
        },
        "outputId": "af663499-81be-4afe-cf7f-90aa9c9b0f85"
      },
      "execution_count": 5,
      "outputs": [
        {
          "output_type": "execute_result",
          "data": {
            "text/plain": [
              "0                                                    Q  \\\n",
              "1    Jakie objawy są charakterystyczne dla koronawi...   \n",
              "2    Co zrobić w przypadku wystąpienia duszności i ...   \n",
              "3    Mam objawy charakterystyczne dla COVID-19. Co ...   \n",
              "4    Nie mogę skontaktować się ze swoim lekarzem PO...   \n",
              "5    Mój lekarz POZ nie dyżuruje, a ja mam objawy C...   \n",
              "..                                                 ...   \n",
              "331  Czy regularne płukanie nosa solą fizjologiczną...   \n",
              "332  Czy jedzenie czosnku może zapobiec infekcji no...   \n",
              "333  Czy zimna pogoda i śnieg mogą zabić koronawirusa?   \n",
              "334  Czy osoba która umiera na COVID podlega kremacji?   \n",
              "335                             Kto może oddać osocze?   \n",
              "\n",
              "0                                                    A  \n",
              "1    Osoby zakażone koronawirusem zwykle mają:wysok...  \n",
              "2    Jeżeli występują u ciebie duszności lub kłopot...  \n",
              "3    Jeśli Twoje objawy są typowe dla zakażenia kor...  \n",
              "4    Jeśli nie możesz skontaktować się ze swoim lek...  \n",
              "5    Jeśli lekarz wybrany przez Ciebie jako lekarz ...  \n",
              "..                                                 ...  \n",
              "331  Nie. Nie ma dowodów na to, że regularne płukan...  \n",
              "332  Czosnek to zdrowa żywność, która może mieć pew...  \n",
              "333  Nie ma powodu sądzić, że zimna pogoda może zab...  \n",
              "334    Nie ma obowiązku kremacji zmarłych na COVID-19.  \n",
              "335  Osocze może zostać pobrane od osób:w wieku 18 ...  \n",
              "\n",
              "[335 rows x 2 columns]"
            ],
            "text/html": [
              "\n",
              "  <div id=\"df-410533f9-e89f-4f50-ab1e-2c131c74c593\">\n",
              "    <div class=\"colab-df-container\">\n",
              "      <div>\n",
              "<style scoped>\n",
              "    .dataframe tbody tr th:only-of-type {\n",
              "        vertical-align: middle;\n",
              "    }\n",
              "\n",
              "    .dataframe tbody tr th {\n",
              "        vertical-align: top;\n",
              "    }\n",
              "\n",
              "    .dataframe thead th {\n",
              "        text-align: right;\n",
              "    }\n",
              "</style>\n",
              "<table border=\"1\" class=\"dataframe\">\n",
              "  <thead>\n",
              "    <tr style=\"text-align: right;\">\n",
              "      <th></th>\n",
              "      <th>Q</th>\n",
              "      <th>A</th>\n",
              "    </tr>\n",
              "  </thead>\n",
              "  <tbody>\n",
              "    <tr>\n",
              "      <th>1</th>\n",
              "      <td>Jakie objawy są charakterystyczne dla koronawi...</td>\n",
              "      <td>Osoby zakażone koronawirusem zwykle mają:wysok...</td>\n",
              "    </tr>\n",
              "    <tr>\n",
              "      <th>2</th>\n",
              "      <td>Co zrobić w przypadku wystąpienia duszności i ...</td>\n",
              "      <td>Jeżeli występują u ciebie duszności lub kłopot...</td>\n",
              "    </tr>\n",
              "    <tr>\n",
              "      <th>3</th>\n",
              "      <td>Mam objawy charakterystyczne dla COVID-19. Co ...</td>\n",
              "      <td>Jeśli Twoje objawy są typowe dla zakażenia kor...</td>\n",
              "    </tr>\n",
              "    <tr>\n",
              "      <th>4</th>\n",
              "      <td>Nie mogę skontaktować się ze swoim lekarzem PO...</td>\n",
              "      <td>Jeśli nie możesz skontaktować się ze swoim lek...</td>\n",
              "    </tr>\n",
              "    <tr>\n",
              "      <th>5</th>\n",
              "      <td>Mój lekarz POZ nie dyżuruje, a ja mam objawy C...</td>\n",
              "      <td>Jeśli lekarz wybrany przez Ciebie jako lekarz ...</td>\n",
              "    </tr>\n",
              "    <tr>\n",
              "      <th>...</th>\n",
              "      <td>...</td>\n",
              "      <td>...</td>\n",
              "    </tr>\n",
              "    <tr>\n",
              "      <th>331</th>\n",
              "      <td>Czy regularne płukanie nosa solą fizjologiczną...</td>\n",
              "      <td>Nie. Nie ma dowodów na to, że regularne płukan...</td>\n",
              "    </tr>\n",
              "    <tr>\n",
              "      <th>332</th>\n",
              "      <td>Czy jedzenie czosnku może zapobiec infekcji no...</td>\n",
              "      <td>Czosnek to zdrowa żywność, która może mieć pew...</td>\n",
              "    </tr>\n",
              "    <tr>\n",
              "      <th>333</th>\n",
              "      <td>Czy zimna pogoda i śnieg mogą zabić koronawirusa?</td>\n",
              "      <td>Nie ma powodu sądzić, że zimna pogoda może zab...</td>\n",
              "    </tr>\n",
              "    <tr>\n",
              "      <th>334</th>\n",
              "      <td>Czy osoba która umiera na COVID podlega kremacji?</td>\n",
              "      <td>Nie ma obowiązku kremacji zmarłych na COVID-19.</td>\n",
              "    </tr>\n",
              "    <tr>\n",
              "      <th>335</th>\n",
              "      <td>Kto może oddać osocze?</td>\n",
              "      <td>Osocze może zostać pobrane od osób:w wieku 18 ...</td>\n",
              "    </tr>\n",
              "  </tbody>\n",
              "</table>\n",
              "<p>335 rows × 2 columns</p>\n",
              "</div>\n",
              "      <button class=\"colab-df-convert\" onclick=\"convertToInteractive('df-410533f9-e89f-4f50-ab1e-2c131c74c593')\"\n",
              "              title=\"Convert this dataframe to an interactive table.\"\n",
              "              style=\"display:none;\">\n",
              "        \n",
              "  <svg xmlns=\"http://www.w3.org/2000/svg\" height=\"24px\"viewBox=\"0 0 24 24\"\n",
              "       width=\"24px\">\n",
              "    <path d=\"M0 0h24v24H0V0z\" fill=\"none\"/>\n",
              "    <path d=\"M18.56 5.44l.94 2.06.94-2.06 2.06-.94-2.06-.94-.94-2.06-.94 2.06-2.06.94zm-11 1L8.5 8.5l.94-2.06 2.06-.94-2.06-.94L8.5 2.5l-.94 2.06-2.06.94zm10 10l.94 2.06.94-2.06 2.06-.94-2.06-.94-.94-2.06-.94 2.06-2.06.94z\"/><path d=\"M17.41 7.96l-1.37-1.37c-.4-.4-.92-.59-1.43-.59-.52 0-1.04.2-1.43.59L10.3 9.45l-7.72 7.72c-.78.78-.78 2.05 0 2.83L4 21.41c.39.39.9.59 1.41.59.51 0 1.02-.2 1.41-.59l7.78-7.78 2.81-2.81c.8-.78.8-2.07 0-2.86zM5.41 20L4 18.59l7.72-7.72 1.47 1.35L5.41 20z\"/>\n",
              "  </svg>\n",
              "      </button>\n",
              "      \n",
              "  <style>\n",
              "    .colab-df-container {\n",
              "      display:flex;\n",
              "      flex-wrap:wrap;\n",
              "      gap: 12px;\n",
              "    }\n",
              "\n",
              "    .colab-df-convert {\n",
              "      background-color: #E8F0FE;\n",
              "      border: none;\n",
              "      border-radius: 50%;\n",
              "      cursor: pointer;\n",
              "      display: none;\n",
              "      fill: #1967D2;\n",
              "      height: 32px;\n",
              "      padding: 0 0 0 0;\n",
              "      width: 32px;\n",
              "    }\n",
              "\n",
              "    .colab-df-convert:hover {\n",
              "      background-color: #E2EBFA;\n",
              "      box-shadow: 0px 1px 2px rgba(60, 64, 67, 0.3), 0px 1px 3px 1px rgba(60, 64, 67, 0.15);\n",
              "      fill: #174EA6;\n",
              "    }\n",
              "\n",
              "    [theme=dark] .colab-df-convert {\n",
              "      background-color: #3B4455;\n",
              "      fill: #D2E3FC;\n",
              "    }\n",
              "\n",
              "    [theme=dark] .colab-df-convert:hover {\n",
              "      background-color: #434B5C;\n",
              "      box-shadow: 0px 1px 3px 1px rgba(0, 0, 0, 0.15);\n",
              "      filter: drop-shadow(0px 1px 2px rgba(0, 0, 0, 0.3));\n",
              "      fill: #FFFFFF;\n",
              "    }\n",
              "  </style>\n",
              "\n",
              "      <script>\n",
              "        const buttonEl =\n",
              "          document.querySelector('#df-410533f9-e89f-4f50-ab1e-2c131c74c593 button.colab-df-convert');\n",
              "        buttonEl.style.display =\n",
              "          google.colab.kernel.accessAllowed ? 'block' : 'none';\n",
              "\n",
              "        async function convertToInteractive(key) {\n",
              "          const element = document.querySelector('#df-410533f9-e89f-4f50-ab1e-2c131c74c593');\n",
              "          const dataTable =\n",
              "            await google.colab.kernel.invokeFunction('convertToInteractive',\n",
              "                                                     [key], {});\n",
              "          if (!dataTable) return;\n",
              "\n",
              "          const docLinkHtml = 'Like what you see? Visit the ' +\n",
              "            '<a target=\"_blank\" href=https://colab.research.google.com/notebooks/data_table.ipynb>data table notebook</a>'\n",
              "            + ' to learn more about interactive tables.';\n",
              "          element.innerHTML = '';\n",
              "          dataTable['output_type'] = 'display_data';\n",
              "          await google.colab.output.renderOutput(dataTable, element);\n",
              "          const docLink = document.createElement('div');\n",
              "          docLink.innerHTML = docLinkHtml;\n",
              "          element.appendChild(docLink);\n",
              "        }\n",
              "      </script>\n",
              "    </div>\n",
              "  </div>\n",
              "  "
            ]
          },
          "metadata": {},
          "execution_count": 5
        }
      ]
    },
    {
      "cell_type": "markdown",
      "source": [
        "W kolejnych krokach przyglądam się bliżej naszemu datasetowi."
      ],
      "metadata": {
        "id": "Qr_mcP_YK0a9"
      }
    },
    {
      "cell_type": "code",
      "source": [
        "question_lengths = df.Q.fillna(\"\").str.split().map(len)\n",
        "answer_lengths = df.A.fillna(\"\").str.split().map(len)\n",
        "\n",
        "question_no_sentences = df.Q.map(textstat.sentence_count)\n",
        "answer_no_sentences = df.A.map(textstat.sentence_count)"
      ],
      "metadata": {
        "id": "W8EAcpk6K0HE"
      },
      "execution_count": 6,
      "outputs": []
    },
    {
      "cell_type": "code",
      "source": [
        "bins = [-np.inf, 0, 5, 10, 15, 20, 25, 30, 35, 40, 45, 50, np.inf]\n",
        "labels = [\"0\", \"0-5\", \"5-10\", \"10-15\", \"15-20\", \"25-30\", \"30-35\", \"35-40\", \"40-45\", \"45-50\"]\n",
        "\n",
        "binned_q_lengths = pd.cut(question_lengths, bins)\n",
        "binned_a_lengths = pd.cut(answer_lengths, bins)"
      ],
      "metadata": {
        "id": "8gUC_ZSuLg3g"
      },
      "execution_count": 7,
      "outputs": []
    },
    {
      "cell_type": "markdown",
      "source": [
        "Pytania w dokumenie są raczej normalnej długości przy czym odpowiedzi zwykle są dość długie i wyczerpujące co widać na poniższych wizualizacjach."
      ],
      "metadata": {
        "id": "4_EqDiOZQaNj"
      }
    },
    {
      "cell_type": "code",
      "source": [
        "q_pie = binned_q_lengths.value_counts().plot(kind=\"pie\", y=\"value_column\", figsize=(5, 5))\n",
        "q_pie.set_title(f\"Ilość pytań o danej liczbie słów (w {df.shape[0]} pytaniach)\")"
      ],
      "metadata": {
        "colab": {
          "base_uri": "https://localhost:8080/",
          "height": 336
        },
        "id": "nP0gRQG2PWkl",
        "outputId": "d86ee2de-4f6a-4b8a-f445-f40106976ba0"
      },
      "execution_count": 8,
      "outputs": [
        {
          "output_type": "execute_result",
          "data": {
            "text/plain": [
              "Text(0.5, 1.0, 'Ilość pytań o danej liczbie słów (w 335 pytaniach)')"
            ]
          },
          "metadata": {},
          "execution_count": 8
        },
        {
          "output_type": "display_data",
          "data": {
            "text/plain": [
              "<Figure size 360x360 with 1 Axes>"
            ],
            "image/png": "[encoded data removed]"
          },
          "metadata": {}
        }
      ]
    },
    {
      "cell_type": "code",
      "source": [
        "a_pie = binned_a_lengths.value_counts().plot(kind=\"pie\", y=\"value_column\", figsize=(5, 5))\n",
        "a_pie.set_title(f\"Ilość odpowiedzi o danej liczbie słów (w {df.shape[0]} Odpowiedziach)\")"
      ],
      "metadata": {
        "colab": {
          "base_uri": "https://localhost:8080/",
          "height": 336
        },
        "id": "a36_geqrPX4I",
        "outputId": "bd870623-26e5-4b64-d66c-c4546ef1dc9a"
      },
      "execution_count": 9,
      "outputs": [
        {
          "output_type": "execute_result",
          "data": {
            "text/plain": [
              "Text(0.5, 1.0, 'Ilość odpowiedzi o danej liczbie słów (w 335 Odpowiedziach)')"
            ]
          },
          "metadata": {},
          "execution_count": 9
        },
        {
          "output_type": "display_data",
          "data": {
            "text/plain": [
              "<Figure size 360x360 with 1 Axes>"
            ],
            "image/png": "[encoded data removed]"
          },
          "metadata": {}
        }
      ]
    },
    {
      "cell_type": "code",
      "source": [
        "q_hist = question_lengths.hist(bins=range(1, question_lengths.values.max()), figsize=(5, 5))\n",
        "q_hist.set_title(f\"Histogram długości pytań liczonej w liczbie słów.\")"
      ],
      "metadata": {
        "colab": {
          "base_uri": "https://localhost:8080/",
          "height": 353
        },
        "id": "R6Rgu3KvPekj",
        "outputId": "0ae59071-013d-4b26-bb30-ee72116e389c"
      },
      "execution_count": 10,
      "outputs": [
        {
          "output_type": "execute_result",
          "data": {
            "text/plain": [
              "Text(0.5, 1.0, 'Histogram długości pytań liczonej w liczbie słów.')"
            ]
          },
          "metadata": {},
          "execution_count": 10
        },
        {
          "output_type": "display_data",
          "data": {
            "text/plain": [
              "<Figure size 360x360 with 1 Axes>"
            ],
            "image/png": "[encoded data removed]"
          },
          "metadata": {
            "needs_background": "light"
          }
        }
      ]
    },
    {
      "cell_type": "code",
      "source": [
        "a_hist = answer_lengths.hist(bins=range(1, answer_lengths.values.max()), figsize=(5, 5))\n",
        "a_hist.set_title(f\"Histogram długości odpowiedzi liczonej w liczbie słów.\")"
      ],
      "metadata": {
        "colab": {
          "base_uri": "https://localhost:8080/",
          "height": 353
        },
        "id": "wCULYTFaQIiC",
        "outputId": "fb0dba92-8ac6-4cec-baa5-818016c87557"
      },
      "execution_count": 11,
      "outputs": [
        {
          "output_type": "execute_result",
          "data": {
            "text/plain": [
              "Text(0.5, 1.0, 'Histogram długości odpowiedzi liczonej w liczbie słów.')"
            ]
          },
          "metadata": {},
          "execution_count": 11
        },
        {
          "output_type": "display_data",
          "data": {
            "text/plain": [
              "<Figure size 360x360 with 1 Axes>"
            ],
            "image/png": "[encoded data removed]"
          },
          "metadata": {
            "needs_background": "light"
          }
        }
      ]
    },
    {
      "cell_type": "code",
      "source": [
        "a_sent_hist = answer_no_sentences.hist(bins=range(1, answer_no_sentences.values.max()), figsize=(5, 5))\n",
        "a_sent_hist.set_title(f\"Histogram długości odpowiedzi liczonej w liczbie zdań.\")"
      ],
      "metadata": {
        "colab": {
          "base_uri": "https://localhost:8080/",
          "height": 353
        },
        "id": "tQMOBy7uQ4pV",
        "outputId": "9c53ec65-eb0a-40c9-eee2-5acb7fe3ee5e"
      },
      "execution_count": 12,
      "outputs": [
        {
          "output_type": "execute_result",
          "data": {
            "text/plain": [
              "Text(0.5, 1.0, 'Histogram długości odpowiedzi liczonej w liczbie zdań.')"
            ]
          },
          "metadata": {},
          "execution_count": 12
        },
        {
          "output_type": "display_data",
          "data": {
            "text/plain": [
              "<Figure size 360x360 with 1 Axes>"
            ],
            "image/png": "[encoded data removed]"
          },
          "metadata": {
            "needs_background": "light"
          }
        }
      ]
    },
    {
      "cell_type": "code",
      "source": [
        "a_sent_pie = answer_no_sentences.value_counts().plot(kind=\"pie\", y=\"value_column\", figsize=(5, 5))\n",
        "a_sent_pie.set_title(f\"Ilość odpowiedzi liczonej w liczbie zdań.\")"
      ],
      "metadata": {
        "colab": {
          "base_uri": "https://localhost:8080/",
          "height": 336
        },
        "id": "mLcULvEeR_Yv",
        "outputId": "d4d1d439-d9d6-440f-95a3-a6ee08ff5b8c"
      },
      "execution_count": 13,
      "outputs": [
        {
          "output_type": "execute_result",
          "data": {
            "text/plain": [
              "Text(0.5, 1.0, 'Ilość odpowiedzi liczonej w liczbie zdań.')"
            ]
          },
          "metadata": {},
          "execution_count": 13
        },
        {
          "output_type": "display_data",
          "data": {
            "text/plain": [
              "<Figure size 360x360 with 1 Axes>"
            ],
            "image/png": "[encoded data removed]"
          },
          "metadata": {}
        }
      ]
    },
    {
      "cell_type": "markdown",
      "source": [
        "W bazie znajduje się dość dużo bardzo długich odpowiedzi. Bez zastosowania algorytmu do ekstrakcji odpowiedzi z tekstu może okazać się to problemem kiedy np. pytanie jest dość konkretne a odpowiedź występuję dopiero w kolejnych zdaniach dość długiego dokumentu."
      ],
      "metadata": {
        "id": "148bBbP-SVS_"
      }
    },
    {
      "cell_type": "markdown",
      "source": [
        "Jeżeli chcielibyśmy np. fine tune'ować model łatwo da się też przekonwertować dane do postaci Datasetu HuggingFace, który też udostępnia ograniczone API do transformacji danych (np. metodę `map()`) "
      ],
      "metadata": {
        "id": "wCCWWlipIbJ-"
      }
    },
    {
      "cell_type": "code",
      "source": [
        "ds = Dataset.from_pandas(df)\n",
        "ds"
      ],
      "metadata": {
        "colab": {
          "base_uri": "https://localhost:8080/"
        },
        "id": "b5RcQV6im_M0",
        "outputId": "dc5a8bfd-09fc-4d02-9e63-e5394ab18d1b"
      },
      "execution_count": 14,
      "outputs": [
        {
          "output_type": "execute_result",
          "data": {
            "text/plain": [
              "Dataset({\n",
              "    features: ['Q', 'A', '__index_level_0__'],\n",
              "    num_rows: 335\n",
              "})"
            ]
          },
          "metadata": {},
          "execution_count": 14
        }
      ]
    },
    {
      "cell_type": "markdown",
      "source": [
        "Zdefiniujemy sobie tutaj kilka funkcji, m.in. do preprocessingu, które ułatwią mi zabawę z danymi zarówno przy ich eksploracji jak i w trakcie testowania różnych rozwiązań."
      ],
      "metadata": {
        "id": "EFD6_PiRS-dw"
      }
    },
    {
      "cell_type": "markdown",
      "source": [
        "Tutaj wykorzystuję bardzo przydatne API HuggingFace w klasach `AutoModel` i `AutoTokenizer`, które bardzo przyśpieszają prototypowanie i eksperymenty z różnymi checkpointami i architekturami modeli. HF jest w stanie automatycznie wykryć architekturę modelu i go zainicjować. Dostępne są też klasy typu `AutoModelFor*` np. `AutoModelForQuestionAnswering`, które wykorzystują core dowolnego modelu i dodają do niego automatycznie wygenerowany *Head* dla konkretnego zadania. W naszym przypadku nie jest to koniecznie bo będzie wykorzystywali tylko enkoder do budowy reprezentacji semantycznej tekstu. Wykorzystany tutaj model to SentenceBert. Pod spodem HF wykorzystuje specjalną libkę Sentence-Bert https://www.sbert.net/docs/usage/semantic_textual_similarity.html. W pierwszej iteracji tego rozwiązania też z niej korzystałem ale uznałem, że nie ma sensu utrudniać sobie życia :) Swoją drogą w trakcie przygotowywania się do realizacji tego zadania zrobiłem kurs HuggingFace Transformers i stałem się wielkim fanem :)\n",
        "W ostatnim kroku ładujemy model do GPU bo szanujemy swój czas."
      ],
      "metadata": {
        "id": "2uW8ipeS6BgU"
      }
    },
    {
      "cell_type": "code",
      "source": [
        "tokenizer = AutoTokenizer.from_pretrained(MODEL_CHECKPOINT)\n",
        "model = AutoModel.from_pretrained(MODEL_CHECKPOINT)\n",
        "model.to(device)"
      ],
      "metadata": {
        "colab": {
          "base_uri": "https://localhost:8080/"
        },
        "id": "Dtk6AfIGoVIp",
        "outputId": "0d716f9e-3f2e-403b-ea86-9bfda83cc1e6"
      },
      "execution_count": 15,
      "outputs": [
        {
          "output_type": "execute_result",
          "data": {
            "text/plain": [
              "BertModel(\n",
              "  (embeddings): BertEmbeddings(\n",
              "    (word_embeddings): Embedding(50000, 1024, padding_idx=1)\n",
              "    (position_embeddings): Embedding(514, 1024)\n",
              "    (token_type_embeddings): Embedding(2, 1024)\n",
              "    (LayerNorm): LayerNorm((1024,), eps=1e-12, elementwise_affine=True)\n",
              "    (dropout): Dropout(p=0.1, inplace=False)\n",
              "  )\n",
              "  (encoder): BertEncoder(\n",
              "    (layer): ModuleList(\n",
              "      (0): BertLayer(\n",
              "        (attention): BertAttention(\n",
              "          (self): BertSelfAttention(\n",
              "            (query): Linear(in_features=1024, out_features=1024, bias=True)\n",
              "            (key): Linear(in_features=1024, out_features=1024, bias=True)\n",
              "            (value): Linear(in_features=1024, out_features=1024, bias=True)\n",
              "            (dropout): Dropout(p=0.1, inplace=False)\n",
              "          )\n",
              "          (output): BertSelfOutput(\n",
              "            (dense): Linear(in_features=1024, out_features=1024, bias=True)\n",
              "            (LayerNorm): LayerNorm((1024,), eps=1e-12, elementwise_affine=True)\n",
              "            (dropout): Dropout(p=0.1, inplace=False)\n",
              "          )\n",
              "        )\n",
              "        (intermediate): BertIntermediate(\n",
              "          (dense): Linear(in_features=1024, out_features=4096, bias=True)\n",
              "          (intermediate_act_fn): GELUActivation()\n",
              "        )\n",
              "        (output): BertOutput(\n",
              "          (dense): Linear(in_features=4096, out_features=1024, bias=True)\n",
              "          (LayerNorm): LayerNorm((1024,), eps=1e-12, elementwise_affine=True)\n",
              "          (dropout): Dropout(p=0.1, inplace=False)\n",
              "        )\n",
              "      )\n",
              "      (1): BertLayer(\n",
              "        (attention): BertAttention(\n",
              "          (self): BertSelfAttention(\n",
              "            (query): Linear(in_features=1024, out_features=1024, bias=True)\n",
              "            (key): Linear(in_features=1024, out_features=1024, bias=True)\n",
              "            (value): Linear(in_features=1024, out_features=1024, bias=True)\n",
              "            (dropout): Dropout(p=0.1, inplace=False)\n",
              "          )\n",
              "          (output): BertSelfOutput(\n",
              "            (dense): Linear(in_features=1024, out_features=1024, bias=True)\n",
              "            (LayerNorm): LayerNorm((1024,), eps=1e-12, elementwise_affine=True)\n",
              "            (dropout): Dropout(p=0.1, inplace=False)\n",
              "          )\n",
              "        )\n",
              "        (intermediate): BertIntermediate(\n",
              "          (dense): Linear(in_features=1024, out_features=4096, bias=True)\n",
              "          (intermediate_act_fn): GELUActivation()\n",
              "        )\n",
              "        (output): BertOutput(\n",
              "          (dense): Linear(in_features=4096, out_features=1024, bias=True)\n",
              "          (LayerNorm): LayerNorm((1024,), eps=1e-12, elementwise_affine=True)\n",
              "          (dropout): Dropout(p=0.1, inplace=False)\n",
              "        )\n",
              "      )\n",
              "      (2): BertLayer(\n",
              "        (attention): BertAttention(\n",
              "          (self): BertSelfAttention(\n",
              "            (query): Linear(in_features=1024, out_features=1024, bias=True)\n",
              "            (key): Linear(in_features=1024, out_features=1024, bias=True)\n",
              "            (value): Linear(in_features=1024, out_features=1024, bias=True)\n",
              "            (dropout): Dropout(p=0.1, inplace=False)\n",
              "          )\n",
              "          (output): BertSelfOutput(\n",
              "            (dense): Linear(in_features=1024, out_features=1024, bias=True)\n",
              "            (LayerNorm): LayerNorm((1024,), eps=1e-12, elementwise_affine=True)\n",
              "            (dropout): Dropout(p=0.1, inplace=False)\n",
              "          )\n",
              "        )\n",
              "        (intermediate): BertIntermediate(\n",
              "          (dense): Linear(in_features=1024, out_features=4096, bias=True)\n",
              "          (intermediate_act_fn): GELUActivation()\n",
              "        )\n",
              "        (output): BertOutput(\n",
              "          (dense): Linear(in_features=4096, out_features=1024, bias=True)\n",
              "          (LayerNorm): LayerNorm((1024,), eps=1e-12, elementwise_affine=True)\n",
              "          (dropout): Dropout(p=0.1, inplace=False)\n",
              "        )\n",
              "      )\n",
              "      (3): BertLayer(\n",
              "        (attention): BertAttention(\n",
              "          (self): BertSelfAttention(\n",
              "            (query): Linear(in_features=1024, out_features=1024, bias=True)\n",
              "            (key): Linear(in_features=1024, out_features=1024, bias=True)\n",
              "            (value): Linear(in_features=1024, out_features=1024, bias=True)\n",
              "            (dropout): Dropout(p=0.1, inplace=False)\n",
              "          )\n",
              "          (output): BertSelfOutput(\n",
              "            (dense): Linear(in_features=1024, out_features=1024, bias=True)\n",
              "            (LayerNorm): LayerNorm((1024,), eps=1e-12, elementwise_affine=True)\n",
              "            (dropout): Dropout(p=0.1, inplace=False)\n",
              "          )\n",
              "        )\n",
              "        (intermediate): BertIntermediate(\n",
              "          (dense): Linear(in_features=1024, out_features=4096, bias=True)\n",
              "          (intermediate_act_fn): GELUActivation()\n",
              "        )\n",
              "        (output): BertOutput(\n",
              "          (dense): Linear(in_features=4096, out_features=1024, bias=True)\n",
              "          (LayerNorm): LayerNorm((1024,), eps=1e-12, elementwise_affine=True)\n",
              "          (dropout): Dropout(p=0.1, inplace=False)\n",
              "        )\n",
              "      )\n",
              "      (4): BertLayer(\n",
              "        (attention): BertAttention(\n",
              "          (self): BertSelfAttention(\n",
              "            (query): Linear(in_features=1024, out_features=1024, bias=True)\n",
              "            (key): Linear(in_features=1024, out_features=1024, bias=True)\n",
              "            (value): Linear(in_features=1024, out_features=1024, bias=True)\n",
              "            (dropout): Dropout(p=0.1, inplace=False)\n",
              "          )\n",
              "          (output): BertSelfOutput(\n",
              "            (dense): Linear(in_features=1024, out_features=1024, bias=True)\n",
              "            (LayerNorm): LayerNorm((1024,), eps=1e-12, elementwise_affine=True)\n",
              "            (dropout): Dropout(p=0.1, inplace=False)\n",
              "          )\n",
              "        )\n",
              "        (intermediate): BertIntermediate(\n",
              "          (dense): Linear(in_features=1024, out_features=4096, bias=True)\n",
              "          (intermediate_act_fn): GELUActivation()\n",
              "        )\n",
              "        (output): BertOutput(\n",
              "          (dense): Linear(in_features=4096, out_features=1024, bias=True)\n",
              "          (LayerNorm): LayerNorm((1024,), eps=1e-12, elementwise_affine=True)\n",
              "          (dropout): Dropout(p=0.1, inplace=False)\n",
              "        )\n",
              "      )\n",
              "      (5): BertLayer(\n",
              "        (attention): BertAttention(\n",
              "          (self): BertSelfAttention(\n",
              "            (query): Linear(in_features=1024, out_features=1024, bias=True)\n",
              "            (key): Linear(in_features=1024, out_features=1024, bias=True)\n",
              "            (value): Linear(in_features=1024, out_features=1024, bias=True)\n",
              "            (dropout): Dropout(p=0.1, inplace=False)\n",
              "          )\n",
              "          (output): BertSelfOutput(\n",
              "            (dense): Linear(in_features=1024, out_features=1024, bias=True)\n",
              "            (LayerNorm): LayerNorm((1024,), eps=1e-12, elementwise_affine=True)\n",
              "            (dropout): Dropout(p=0.1, inplace=False)\n",
              "          )\n",
              "        )\n",
              "        (intermediate): BertIntermediate(\n",
              "          (dense): Linear(in_features=1024, out_features=4096, bias=True)\n",
              "          (intermediate_act_fn): GELUActivation()\n",
              "        )\n",
              "        (output): BertOutput(\n",
              "          (dense): Linear(in_features=4096, out_features=1024, bias=True)\n",
              "          (LayerNorm): LayerNorm((1024,), eps=1e-12, elementwise_affine=True)\n",
              "          (dropout): Dropout(p=0.1, inplace=False)\n",
              "        )\n",
              "      )\n",
              "      (6): BertLayer(\n",
              "        (attention): BertAttention(\n",
              "          (self): BertSelfAttention(\n",
              "            (query): Linear(in_features=1024, out_features=1024, bias=True)\n",
              "            (key): Linear(in_features=1024, out_features=1024, bias=True)\n",
              "            (value): Linear(in_features=1024, out_features=1024, bias=True)\n",
              "            (dropout): Dropout(p=0.1, inplace=False)\n",
              "          )\n",
              "          (output): BertSelfOutput(\n",
              "            (dense): Linear(in_features=1024, out_features=1024, bias=True)\n",
              "            (LayerNorm): LayerNorm((1024,), eps=1e-12, elementwise_affine=True)\n",
              "            (dropout): Dropout(p=0.1, inplace=False)\n",
              "          )\n",
              "        )\n",
              "        (intermediate): BertIntermediate(\n",
              "          (dense): Linear(in_features=1024, out_features=4096, bias=True)\n",
              "          (intermediate_act_fn): GELUActivation()\n",
              "        )\n",
              "        (output): BertOutput(\n",
              "          (dense): Linear(in_features=4096, out_features=1024, bias=True)\n",
              "          (LayerNorm): LayerNorm((1024,), eps=1e-12, elementwise_affine=True)\n",
              "          (dropout): Dropout(p=0.1, inplace=False)\n",
              "        )\n",
              "      )\n",
              "      (7): BertLayer(\n",
              "        (attention): BertAttention(\n",
              "          (self): BertSelfAttention(\n",
              "            (query): Linear(in_features=1024, out_features=1024, bias=True)\n",
              "            (key): Linear(in_features=1024, out_features=1024, bias=True)\n",
              "            (value): Linear(in_features=1024, out_features=1024, bias=True)\n",
              "            (dropout): Dropout(p=0.1, inplace=False)\n",
              "          )\n",
              "          (output): BertSelfOutput(\n",
              "            (dense): Linear(in_features=1024, out_features=1024, bias=True)\n",
              "            (LayerNorm): LayerNorm((1024,), eps=1e-12, elementwise_affine=True)\n",
              "            (dropout): Dropout(p=0.1, inplace=False)\n",
              "          )\n",
              "        )\n",
              "        (intermediate): BertIntermediate(\n",
              "          (dense): Linear(in_features=1024, out_features=4096, bias=True)\n",
              "          (intermediate_act_fn): GELUActivation()\n",
              "        )\n",
              "        (output): BertOutput(\n",
              "          (dense): Linear(in_features=4096, out_features=1024, bias=True)\n",
              "          (LayerNorm): LayerNorm((1024,), eps=1e-12, elementwise_affine=True)\n",
              "          (dropout): Dropout(p=0.1, inplace=False)\n",
              "        )\n",
              "      )\n",
              "      (8): BertLayer(\n",
              "        (attention): BertAttention(\n",
              "          (self): BertSelfAttention(\n",
              "            (query): Linear(in_features=1024, out_features=1024, bias=True)\n",
              "            (key): Linear(in_features=1024, out_features=1024, bias=True)\n",
              "            (value): Linear(in_features=1024, out_features=1024, bias=True)\n",
              "            (dropout): Dropout(p=0.1, inplace=False)\n",
              "          )\n",
              "          (output): BertSelfOutput(\n",
              "            (dense): Linear(in_features=1024, out_features=1024, bias=True)\n",
              "            (LayerNorm): LayerNorm((1024,), eps=1e-12, elementwise_affine=True)\n",
              "            (dropout): Dropout(p=0.1, inplace=False)\n",
              "          )\n",
              "        )\n",
              "        (intermediate): BertIntermediate(\n",
              "          (dense): Linear(in_features=1024, out_features=4096, bias=True)\n",
              "          (intermediate_act_fn): GELUActivation()\n",
              "        )\n",
              "        (output): BertOutput(\n",
              "          (dense): Linear(in_features=4096, out_features=1024, bias=True)\n",
              "          (LayerNorm): LayerNorm((1024,), eps=1e-12, elementwise_affine=True)\n",
              "          (dropout): Dropout(p=0.1, inplace=False)\n",
              "        )\n",
              "      )\n",
              "      (9): BertLayer(\n",
              "        (attention): BertAttention(\n",
              "          (self): BertSelfAttention(\n",
              "            (query): Linear(in_features=1024, out_features=1024, bias=True)\n",
              "            (key): Linear(in_features=1024, out_features=1024, bias=True)\n",
              "            (value): Linear(in_features=1024, out_features=1024, bias=True)\n",
              "            (dropout): Dropout(p=0.1, inplace=False)\n",
              "          )\n",
              "          (output): BertSelfOutput(\n",
              "            (dense): Linear(in_features=1024, out_features=1024, bias=True)\n",
              "            (LayerNorm): LayerNorm((1024,), eps=1e-12, elementwise_affine=True)\n",
              "            (dropout): Dropout(p=0.1, inplace=False)\n",
              "          )\n",
              "        )\n",
              "        (intermediate): BertIntermediate(\n",
              "          (dense): Linear(in_features=1024, out_features=4096, bias=True)\n",
              "          (intermediate_act_fn): GELUActivation()\n",
              "        )\n",
              "        (output): BertOutput(\n",
              "          (dense): Linear(in_features=4096, out_features=1024, bias=True)\n",
              "          (LayerNorm): LayerNorm((1024,), eps=1e-12, elementwise_affine=True)\n",
              "          (dropout): Dropout(p=0.1, inplace=False)\n",
              "        )\n",
              "      )\n",
              "      (10): BertLayer(\n",
              "        (attention): BertAttention(\n",
              "          (self): BertSelfAttention(\n",
              "            (query): Linear(in_features=1024, out_features=1024, bias=True)\n",
              "            (key): Linear(in_features=1024, out_features=1024, bias=True)\n",
              "            (value): Linear(in_features=1024, out_features=1024, bias=True)\n",
              "            (dropout): Dropout(p=0.1, inplace=False)\n",
              "          )\n",
              "          (output): BertSelfOutput(\n",
              "            (dense): Linear(in_features=1024, out_features=1024, bias=True)\n",
              "            (LayerNorm): LayerNorm((1024,), eps=1e-12, elementwise_affine=True)\n",
              "            (dropout): Dropout(p=0.1, inplace=False)\n",
              "          )\n",
              "        )\n",
              "        (intermediate): BertIntermediate(\n",
              "          (dense): Linear(in_features=1024, out_features=4096, bias=True)\n",
              "          (intermediate_act_fn): GELUActivation()\n",
              "        )\n",
              "        (output): BertOutput(\n",
              "          (dense): Linear(in_features=4096, out_features=1024, bias=True)\n",
              "          (LayerNorm): LayerNorm((1024,), eps=1e-12, elementwise_affine=True)\n",
              "          (dropout): Dropout(p=0.1, inplace=False)\n",
              "        )\n",
              "      )\n",
              "      (11): BertLayer(\n",
              "        (attention): BertAttention(\n",
              "          (self): BertSelfAttention(\n",
              "            (query): Linear(in_features=1024, out_features=1024, bias=True)\n",
              "            (key): Linear(in_features=1024, out_features=1024, bias=True)\n",
              "            (value): Linear(in_features=1024, out_features=1024, bias=True)\n",
              "            (dropout): Dropout(p=0.1, inplace=False)\n",
              "          )\n",
              "          (output): BertSelfOutput(\n",
              "            (dense): Linear(in_features=1024, out_features=1024, bias=True)\n",
              "            (LayerNorm): LayerNorm((1024,), eps=1e-12, elementwise_affine=True)\n",
              "            (dropout): Dropout(p=0.1, inplace=False)\n",
              "          )\n",
              "        )\n",
              "        (intermediate): BertIntermediate(\n",
              "          (dense): Linear(in_features=1024, out_features=4096, bias=True)\n",
              "          (intermediate_act_fn): GELUActivation()\n",
              "        )\n",
              "        (output): BertOutput(\n",
              "          (dense): Linear(in_features=4096, out_features=1024, bias=True)\n",
              "          (LayerNorm): LayerNorm((1024,), eps=1e-12, elementwise_affine=True)\n",
              "          (dropout): Dropout(p=0.1, inplace=False)\n",
              "        )\n",
              "      )\n",
              "      (12): BertLayer(\n",
              "        (attention): BertAttention(\n",
              "          (self): BertSelfAttention(\n",
              "            (query): Linear(in_features=1024, out_features=1024, bias=True)\n",
              "            (key): Linear(in_features=1024, out_features=1024, bias=True)\n",
              "            (value): Linear(in_features=1024, out_features=1024, bias=True)\n",
              "            (dropout): Dropout(p=0.1, inplace=False)\n",
              "          )\n",
              "          (output): BertSelfOutput(\n",
              "            (dense): Linear(in_features=1024, out_features=1024, bias=True)\n",
              "            (LayerNorm): LayerNorm((1024,), eps=1e-12, elementwise_affine=True)\n",
              "            (dropout): Dropout(p=0.1, inplace=False)\n",
              "          )\n",
              "        )\n",
              "        (intermediate): BertIntermediate(\n",
              "          (dense): Linear(in_features=1024, out_features=4096, bias=True)\n",
              "          (intermediate_act_fn): GELUActivation()\n",
              "        )\n",
              "        (output): BertOutput(\n",
              "          (dense): Linear(in_features=4096, out_features=1024, bias=True)\n",
              "          (LayerNorm): LayerNorm((1024,), eps=1e-12, elementwise_affine=True)\n",
              "          (dropout): Dropout(p=0.1, inplace=False)\n",
              "        )\n",
              "      )\n",
              "      (13): BertLayer(\n",
              "        (attention): BertAttention(\n",
              "          (self): BertSelfAttention(\n",
              "            (query): Linear(in_features=1024, out_features=1024, bias=True)\n",
              "            (key): Linear(in_features=1024, out_features=1024, bias=True)\n",
              "            (value): Linear(in_features=1024, out_features=1024, bias=True)\n",
              "            (dropout): Dropout(p=0.1, inplace=False)\n",
              "          )\n",
              "          (output): BertSelfOutput(\n",
              "            (dense): Linear(in_features=1024, out_features=1024, bias=True)\n",
              "            (LayerNorm): LayerNorm((1024,), eps=1e-12, elementwise_affine=True)\n",
              "            (dropout): Dropout(p=0.1, inplace=False)\n",
              "          )\n",
              "        )\n",
              "        (intermediate): BertIntermediate(\n",
              "          (dense): Linear(in_features=1024, out_features=4096, bias=True)\n",
              "          (intermediate_act_fn): GELUActivation()\n",
              "        )\n",
              "        (output): BertOutput(\n",
              "          (dense): Linear(in_features=4096, out_features=1024, bias=True)\n",
              "          (LayerNorm): LayerNorm((1024,), eps=1e-12, elementwise_affine=True)\n",
              "          (dropout): Dropout(p=0.1, inplace=False)\n",
              "        )\n",
              "      )\n",
              "      (14): BertLayer(\n",
              "        (attention): BertAttention(\n",
              "          (self): BertSelfAttention(\n",
              "            (query): Linear(in_features=1024, out_features=1024, bias=True)\n",
              "            (key): Linear(in_features=1024, out_features=1024, bias=True)\n",
              "            (value): Linear(in_features=1024, out_features=1024, bias=True)\n",
              "            (dropout): Dropout(p=0.1, inplace=False)\n",
              "          )\n",
              "          (output): BertSelfOutput(\n",
              "            (dense): Linear(in_features=1024, out_features=1024, bias=True)\n",
              "            (LayerNorm): LayerNorm((1024,), eps=1e-12, elementwise_affine=True)\n",
              "            (dropout): Dropout(p=0.1, inplace=False)\n",
              "          )\n",
              "        )\n",
              "        (intermediate): BertIntermediate(\n",
              "          (dense): Linear(in_features=1024, out_features=4096, bias=True)\n",
              "          (intermediate_act_fn): GELUActivation()\n",
              "        )\n",
              "        (output): BertOutput(\n",
              "          (dense): Linear(in_features=4096, out_features=1024, bias=True)\n",
              "          (LayerNorm): LayerNorm((1024,), eps=1e-12, elementwise_affine=True)\n",
              "          (dropout): Dropout(p=0.1, inplace=False)\n",
              "        )\n",
              "      )\n",
              "      (15): BertLayer(\n",
              "        (attention): BertAttention(\n",
              "          (self): BertSelfAttention(\n",
              "            (query): Linear(in_features=1024, out_features=1024, bias=True)\n",
              "            (key): Linear(in_features=1024, out_features=1024, bias=True)\n",
              "            (value): Linear(in_features=1024, out_features=1024, bias=True)\n",
              "            (dropout): Dropout(p=0.1, inplace=False)\n",
              "          )\n",
              "          (output): BertSelfOutput(\n",
              "            (dense): Linear(in_features=1024, out_features=1024, bias=True)\n",
              "            (LayerNorm): LayerNorm((1024,), eps=1e-12, elementwise_affine=True)\n",
              "            (dropout): Dropout(p=0.1, inplace=False)\n",
              "          )\n",
              "        )\n",
              "        (intermediate): BertIntermediate(\n",
              "          (dense): Linear(in_features=1024, out_features=4096, bias=True)\n",
              "          (intermediate_act_fn): GELUActivation()\n",
              "        )\n",
              "        (output): BertOutput(\n",
              "          (dense): Linear(in_features=4096, out_features=1024, bias=True)\n",
              "          (LayerNorm): LayerNorm((1024,), eps=1e-12, elementwise_affine=True)\n",
              "          (dropout): Dropout(p=0.1, inplace=False)\n",
              "        )\n",
              "      )\n",
              "      (16): BertLayer(\n",
              "        (attention): BertAttention(\n",
              "          (self): BertSelfAttention(\n",
              "            (query): Linear(in_features=1024, out_features=1024, bias=True)\n",
              "            (key): Linear(in_features=1024, out_features=1024, bias=True)\n",
              "            (value): Linear(in_features=1024, out_features=1024, bias=True)\n",
              "            (dropout): Dropout(p=0.1, inplace=False)\n",
              "          )\n",
              "          (output): BertSelfOutput(\n",
              "            (dense): Linear(in_features=1024, out_features=1024, bias=True)\n",
              "            (LayerNorm): LayerNorm((1024,), eps=1e-12, elementwise_affine=True)\n",
              "            (dropout): Dropout(p=0.1, inplace=False)\n",
              "          )\n",
              "        )\n",
              "        (intermediate): BertIntermediate(\n",
              "          (dense): Linear(in_features=1024, out_features=4096, bias=True)\n",
              "          (intermediate_act_fn): GELUActivation()\n",
              "        )\n",
              "        (output): BertOutput(\n",
              "          (dense): Linear(in_features=4096, out_features=1024, bias=True)\n",
              "          (LayerNorm): LayerNorm((1024,), eps=1e-12, elementwise_affine=True)\n",
              "          (dropout): Dropout(p=0.1, inplace=False)\n",
              "        )\n",
              "      )\n",
              "      (17): BertLayer(\n",
              "        (attention): BertAttention(\n",
              "          (self): BertSelfAttention(\n",
              "            (query): Linear(in_features=1024, out_features=1024, bias=True)\n",
              "            (key): Linear(in_features=1024, out_features=1024, bias=True)\n",
              "            (value): Linear(in_features=1024, out_features=1024, bias=True)\n",
              "            (dropout): Dropout(p=0.1, inplace=False)\n",
              "          )\n",
              "          (output): BertSelfOutput(\n",
              "            (dense): Linear(in_features=1024, out_features=1024, bias=True)\n",
              "            (LayerNorm): LayerNorm((1024,), eps=1e-12, elementwise_affine=True)\n",
              "            (dropout): Dropout(p=0.1, inplace=False)\n",
              "          )\n",
              "        )\n",
              "        (intermediate): BertIntermediate(\n",
              "          (dense): Linear(in_features=1024, out_features=4096, bias=True)\n",
              "          (intermediate_act_fn): GELUActivation()\n",
              "        )\n",
              "        (output): BertOutput(\n",
              "          (dense): Linear(in_features=4096, out_features=1024, bias=True)\n",
              "          (LayerNorm): LayerNorm((1024,), eps=1e-12, elementwise_affine=True)\n",
              "          (dropout): Dropout(p=0.1, inplace=False)\n",
              "        )\n",
              "      )\n",
              "      (18): BertLayer(\n",
              "        (attention): BertAttention(\n",
              "          (self): BertSelfAttention(\n",
              "            (query): Linear(in_features=1024, out_features=1024, bias=True)\n",
              "            (key): Linear(in_features=1024, out_features=1024, bias=True)\n",
              "            (value): Linear(in_features=1024, out_features=1024, bias=True)\n",
              "            (dropout): Dropout(p=0.1, inplace=False)\n",
              "          )\n",
              "          (output): BertSelfOutput(\n",
              "            (dense): Linear(in_features=1024, out_features=1024, bias=True)\n",
              "            (LayerNorm): LayerNorm((1024,), eps=1e-12, elementwise_affine=True)\n",
              "            (dropout): Dropout(p=0.1, inplace=False)\n",
              "          )\n",
              "        )\n",
              "        (intermediate): BertIntermediate(\n",
              "          (dense): Linear(in_features=1024, out_features=4096, bias=True)\n",
              "          (intermediate_act_fn): GELUActivation()\n",
              "        )\n",
              "        (output): BertOutput(\n",
              "          (dense): Linear(in_features=4096, out_features=1024, bias=True)\n",
              "          (LayerNorm): LayerNorm((1024,), eps=1e-12, elementwise_affine=True)\n",
              "          (dropout): Dropout(p=0.1, inplace=False)\n",
              "        )\n",
              "      )\n",
              "      (19): BertLayer(\n",
              "        (attention): BertAttention(\n",
              "          (self): BertSelfAttention(\n",
              "            (query): Linear(in_features=1024, out_features=1024, bias=True)\n",
              "            (key): Linear(in_features=1024, out_features=1024, bias=True)\n",
              "            (value): Linear(in_features=1024, out_features=1024, bias=True)\n",
              "            (dropout): Dropout(p=0.1, inplace=False)\n",
              "          )\n",
              "          (output): BertSelfOutput(\n",
              "            (dense): Linear(in_features=1024, out_features=1024, bias=True)\n",
              "            (LayerNorm): LayerNorm((1024,), eps=1e-12, elementwise_affine=True)\n",
              "            (dropout): Dropout(p=0.1, inplace=False)\n",
              "          )\n",
              "        )\n",
              "        (intermediate): BertIntermediate(\n",
              "          (dense): Linear(in_features=1024, out_features=4096, bias=True)\n",
              "          (intermediate_act_fn): GELUActivation()\n",
              "        )\n",
              "        (output): BertOutput(\n",
              "          (dense): Linear(in_features=4096, out_features=1024, bias=True)\n",
              "          (LayerNorm): LayerNorm((1024,), eps=1e-12, elementwise_affine=True)\n",
              "          (dropout): Dropout(p=0.1, inplace=False)\n",
              "        )\n",
              "      )\n",
              "      (20): BertLayer(\n",
              "        (attention): BertAttention(\n",
              "          (self): BertSelfAttention(\n",
              "            (query): Linear(in_features=1024, out_features=1024, bias=True)\n",
              "            (key): Linear(in_features=1024, out_features=1024, bias=True)\n",
              "            (value): Linear(in_features=1024, out_features=1024, bias=True)\n",
              "            (dropout): Dropout(p=0.1, inplace=False)\n",
              "          )\n",
              "          (output): BertSelfOutput(\n",
              "            (dense): Linear(in_features=1024, out_features=1024, bias=True)\n",
              "            (LayerNorm): LayerNorm((1024,), eps=1e-12, elementwise_affine=True)\n",
              "            (dropout): Dropout(p=0.1, inplace=False)\n",
              "          )\n",
              "        )\n",
              "        (intermediate): BertIntermediate(\n",
              "          (dense): Linear(in_features=1024, out_features=4096, bias=True)\n",
              "          (intermediate_act_fn): GELUActivation()\n",
              "        )\n",
              "        (output): BertOutput(\n",
              "          (dense): Linear(in_features=4096, out_features=1024, bias=True)\n",
              "          (LayerNorm): LayerNorm((1024,), eps=1e-12, elementwise_affine=True)\n",
              "          (dropout): Dropout(p=0.1, inplace=False)\n",
              "        )\n",
              "      )\n",
              "      (21): BertLayer(\n",
              "        (attention): BertAttention(\n",
              "          (self): BertSelfAttention(\n",
              "            (query): Linear(in_features=1024, out_features=1024, bias=True)\n",
              "            (key): Linear(in_features=1024, out_features=1024, bias=True)\n",
              "            (value): Linear(in_features=1024, out_features=1024, bias=True)\n",
              "            (dropout): Dropout(p=0.1, inplace=False)\n",
              "          )\n",
              "          (output): BertSelfOutput(\n",
              "            (dense): Linear(in_features=1024, out_features=1024, bias=True)\n",
              "            (LayerNorm): LayerNorm((1024,), eps=1e-12, elementwise_affine=True)\n",
              "            (dropout): Dropout(p=0.1, inplace=False)\n",
              "          )\n",
              "        )\n",
              "        (intermediate): BertIntermediate(\n",
              "          (dense): Linear(in_features=1024, out_features=4096, bias=True)\n",
              "          (intermediate_act_fn): GELUActivation()\n",
              "        )\n",
              "        (output): BertOutput(\n",
              "          (dense): Linear(in_features=4096, out_features=1024, bias=True)\n",
              "          (LayerNorm): LayerNorm((1024,), eps=1e-12, elementwise_affine=True)\n",
              "          (dropout): Dropout(p=0.1, inplace=False)\n",
              "        )\n",
              "      )\n",
              "      (22): BertLayer(\n",
              "        (attention): BertAttention(\n",
              "          (self): BertSelfAttention(\n",
              "            (query): Linear(in_features=1024, out_features=1024, bias=True)\n",
              "            (key): Linear(in_features=1024, out_features=1024, bias=True)\n",
              "            (value): Linear(in_features=1024, out_features=1024, bias=True)\n",
              "            (dropout): Dropout(p=0.1, inplace=False)\n",
              "          )\n",
              "          (output): BertSelfOutput(\n",
              "            (dense): Linear(in_features=1024, out_features=1024, bias=True)\n",
              "            (LayerNorm): LayerNorm((1024,), eps=1e-12, elementwise_affine=True)\n",
              "            (dropout): Dropout(p=0.1, inplace=False)\n",
              "          )\n",
              "        )\n",
              "        (intermediate): BertIntermediate(\n",
              "          (dense): Linear(in_features=1024, out_features=4096, bias=True)\n",
              "          (intermediate_act_fn): GELUActivation()\n",
              "        )\n",
              "        (output): BertOutput(\n",
              "          (dense): Linear(in_features=4096, out_features=1024, bias=True)\n",
              "          (LayerNorm): LayerNorm((1024,), eps=1e-12, elementwise_affine=True)\n",
              "          (dropout): Dropout(p=0.1, inplace=False)\n",
              "        )\n",
              "      )\n",
              "      (23): BertLayer(\n",
              "        (attention): BertAttention(\n",
              "          (self): BertSelfAttention(\n",
              "            (query): Linear(in_features=1024, out_features=1024, bias=True)\n",
              "            (key): Linear(in_features=1024, out_features=1024, bias=True)\n",
              "            (value): Linear(in_features=1024, out_features=1024, bias=True)\n",
              "            (dropout): Dropout(p=0.1, inplace=False)\n",
              "          )\n",
              "          (output): BertSelfOutput(\n",
              "            (dense): Linear(in_features=1024, out_features=1024, bias=True)\n",
              "            (LayerNorm): LayerNorm((1024,), eps=1e-12, elementwise_affine=True)\n",
              "            (dropout): Dropout(p=0.1, inplace=False)\n",
              "          )\n",
              "        )\n",
              "        (intermediate): BertIntermediate(\n",
              "          (dense): Linear(in_features=1024, out_features=4096, bias=True)\n",
              "          (intermediate_act_fn): GELUActivation()\n",
              "        )\n",
              "        (output): BertOutput(\n",
              "          (dense): Linear(in_features=4096, out_features=1024, bias=True)\n",
              "          (LayerNorm): LayerNorm((1024,), eps=1e-12, elementwise_affine=True)\n",
              "          (dropout): Dropout(p=0.1, inplace=False)\n",
              "        )\n",
              "      )\n",
              "    )\n",
              "  )\n",
              "  (pooler): BertPooler(\n",
              "    (dense): Linear(in_features=1024, out_features=1024, bias=True)\n",
              "    (activation): Tanh()\n",
              "  )\n",
              ")"
            ]
          },
          "metadata": {},
          "execution_count": 15
        }
      ]
    },
    {
      "cell_type": "markdown",
      "source": [
        "Definiujemy sobie funkcję pomocniczą do *poolowania* i do parametryzacji tekstu pod postacią embeddingsów."
      ],
      "metadata": {
        "id": "MI-c0Qo-uqnN"
      }
    },
    {
      "cell_type": "markdown",
      "source": [
        "Generujemy sobie dataset pod postacią samych embeddingsów i dodajemy index FAISS (korzystałem też z niego np. przy wyszukiwaniu twarzy). W przypadku budowy prawdziwego rozwiązania można w ramach optymalizacji należało by to wrzucić do bazy danych, która:\n",
        "- wspiera taki format danych (wektory)\n",
        "- implementuje podobieństwo cosinusowe lub inną podobną miarę jako operację za pomocą, której możemy wyszukiwać rekordy.\n",
        "\n",
        "Przy większych bazach pytań pewnie warto pomyśleć też o zindexowaniu i przeszukiwaniu np. za pomocą Solr'a."
      ],
      "metadata": {
        "id": "Gimfe1yAK1fm"
      }
    },
    {
      "cell_type": "code",
      "source": [
        "def _cls_pool_embeddings(model_output):\n",
        "    return model_output.last_hidden_state[:, 0]\n",
        "\n",
        "\n",
        "def get_embeddings(text_list):\n",
        "    encoded_input = tokenizer(\n",
        "        text_list, padding=True, truncation=True, return_tensors=\"pt\"\n",
        "    )\n",
        "    encoded_input = {k: v.to(device) for k, v in encoded_input.items()}\n",
        "    model_output = model(**encoded_input)\n",
        "\n",
        "    return _cls_pool_embeddings(model_output)"
      ],
      "metadata": {
        "id": "KC8I3VVrImDK"
      },
      "execution_count": 16,
      "outputs": []
    },
    {
      "cell_type": "code",
      "source": [
        "embeddings_dataset = ds.map(\n",
        "    lambda x: {\"embeddings\": get_embeddings(x[\"Q\"]).detach().cpu().numpy()[0]}\n",
        ")"
      ],
      "metadata": {
        "colab": {
          "base_uri": "https://localhost:8080/",
          "height": 17,
          "referenced_widgets": [
            "5a51a87ef4fc4fefb3a806f1a56acbc2",
            "232515b4959a43b09a84da5a1678a35a",
            "c8ec8d8b4c2e41c48251fb6e2df7d2d1",
            "eff8ea57f673456890019f95792c1a3c",
            "12524ca49b314524b5e6123d41aba2e0",
            "12032acba53b4eea9cbc45c59b05cf8e",
            "9a27af50599745dc9ca737e98ec62b3d",
            "267de71fa3c5415b8838b62f7d1aabea",
            "77a0f11b071a4d4caddbdb3304bda63a",
            "4fa34a739ca94d81a9677f8011b7c2ff",
            "de29945839384dcba9faadd60aea177d"
          ]
        },
        "id": "28JcVXYEsiLF",
        "outputId": "cdb898e5-d8b4-455d-e6c9-bdabbb532231"
      },
      "execution_count": 17,
      "outputs": [
        {
          "output_type": "display_data",
          "data": {
            "text/plain": [
              "Map:   0%|          | 0/335 [00:00<?, ? examples/s]"
            ],
            "application/vnd.jupyter.widget-view+json": {
              "version_major": 2,
              "version_minor": 0,
              "model_id": "5a51a87ef4fc4fefb3a806f1a56acbc2"
            }
          },
          "metadata": {}
        }
      ]
    },
    {
      "cell_type": "code",
      "source": [
        "embeddings_dataset.add_faiss_index(column=\"embeddings\")"
      ],
      "metadata": {
        "colab": {
          "base_uri": "https://localhost:8080/",
          "height": 118,
          "referenced_widgets": [
            "993b859f683d4d139914af5ef9b88b76",
            "f12f573818c842f9b8882807af5974bc",
            "b802aeaf3c764dc2bd4841c5b4210361",
            "483c0aaaee094c55bc4f206f5361ce34",
            "9a5cd0b377cb4512976749f124fd6738",
            "b58c872834424c33a68ade32d885d406",
            "56d4b31de5614f3fbf03c7465f4ba68c",
            "9ca4e4641bdd4dddaffc72bd5ccabf3c",
            "20165e2e75854f179dc7210be6c7c7a0",
            "89faf6e713f34c5facc86286df17de97",
            "9883006626c645f68c6080f7dfdeffd2"
          ]
        },
        "id": "3FtvZRIdvbDf",
        "outputId": "b68bc592-3f06-4d37-854d-d94f63a430b4"
      },
      "execution_count": 18,
      "outputs": [
        {
          "output_type": "display_data",
          "data": {
            "text/plain": [
              "  0%|          | 0/1 [00:00<?, ?it/s]"
            ],
            "application/vnd.jupyter.widget-view+json": {
              "version_major": 2,
              "version_minor": 0,
              "model_id": "993b859f683d4d139914af5ef9b88b76"
            }
          },
          "metadata": {}
        },
        {
          "output_type": "execute_result",
          "data": {
            "text/plain": [
              "Dataset({\n",
              "    features: ['Q', 'A', '__index_level_0__', 'embeddings'],\n",
              "    num_rows: 335\n",
              "})"
            ]
          },
          "metadata": {},
          "execution_count": 18
        }
      ]
    },
    {
      "cell_type": "markdown",
      "source": [
        "Możemy już sprawdzić jak działa wyjściowy system."
      ],
      "metadata": {
        "id": "dNPRDclMLnK4"
      }
    },
    {
      "cell_type": "code",
      "source": [
        "#@title Wpisz pytanie\n",
        "question = 'Czy wietrzenie pomieszczenia zapobiega rozprzestrzenianiu si\\u0119 koronawirusa?' #@param {type:\"string\"}\n"
      ],
      "metadata": {
        "id": "ELVUsmwPAumk"
      },
      "execution_count": 19,
      "outputs": []
    },
    {
      "cell_type": "code",
      "source": [
        "def get_nearest_samples(question, embeddings_dataset, k=5):\n",
        "  question_embedding = get_embeddings([question]).cpu().detach().numpy()\n",
        "\n",
        "  scores, samples = embeddings_dataset.get_nearest_examples(\n",
        "      \"embeddings\", question_embedding, k=k\n",
        "  )\n",
        "\n",
        "  return scores, samples"
      ],
      "metadata": {
        "id": "0dduyL_1DZLI"
      },
      "execution_count": 20,
      "outputs": []
    },
    {
      "cell_type": "code",
      "source": [
        "def print_sep_line():\n",
        "  print(\"=\" * 50)\n",
        "\n",
        "def print_answer(question, matched_db_question, answer):\n",
        "  print_sep_line()\n",
        "  print(f\"INPUT QUESTION: {question}\")\n",
        "  print(f\"MATCHED DB QUESTION: {matched_db_question}\")\n",
        "  print(f\"ANSWER: {answer}\")\n",
        "  print_sep_line()"
      ],
      "metadata": {
        "id": "bCr7RHUTItgg"
      },
      "execution_count": 21,
      "outputs": []
    },
    {
      "cell_type": "code",
      "source": [
        "def get_embeddings_answer(question, embeddings_dataset):\n",
        "  scores, samples = get_nearest_samples(question, embeddings_dataset)\n",
        "\n",
        "  samples_df = pd.DataFrame.from_dict(samples)\n",
        "  samples_df[\"scores\"] = scores\n",
        "  samples_df.sort_values(\"scores\", ascending=False, inplace=True)\n",
        "\n",
        "  best_ans = samples_df.iloc[0]\n",
        "\n",
        "  print_answer(question, best_ans.Q, best_ans.A)\n",
        "\n",
        "  return best_ans"
      ],
      "metadata": {
        "id": "ja9pP9D4Bzwh"
      },
      "execution_count": 22,
      "outputs": []
    },
    {
      "cell_type": "code",
      "source": [
        "best_ans = get_embeddings_answer(question, embeddings_dataset)"
      ],
      "metadata": {
        "colab": {
          "base_uri": "https://localhost:8080/"
        },
        "id": "8Wixyeh4JJka",
        "outputId": "fd5414d4-618d-4db4-f331-0e2f2b8c031e"
      },
      "execution_count": 23,
      "outputs": [
        {
          "output_type": "stream",
          "name": "stdout",
          "text": [
            "==================================================\n",
            "INPUT QUESTION: Czy wietrzenie pomieszczenia zapobiega rozprzestrzenianiu się koronawirusa?\n",
            "MATCHED DB QUESTION: Czy lampa dezynfekująca na promienie UV może zabić nowego koronawirusa?\n",
            "ANSWER: Lampy UV przeznaczone są do dezynfekcji pomieszczeń, nie powinny być używane do sterylizacji rąk lub innych obszarów skóry, ponieważ promieniowanie UV może powodować podrażnienie skóry.\n",
            "==================================================\n"
          ]
        }
      ]
    },
    {
      "cell_type": "markdown",
      "source": [
        "Jak widać system dość dobrze radzi sobie ze znalezieniem podobnych pytań w bazie na poziomie słownictwa - niestety nie zawsze oznacza to znalezienie najbardziej odpowiedniej odpowiedzi na zadane pytanie."
      ],
      "metadata": {
        "id": "H5vZ_k7PLyBp"
      }
    },
    {
      "cell_type": "markdown",
      "source": [
        "Dla zabawy możemy też zobaczyć jak poradziłby sobie model do ekstraktywnego QA:"
      ],
      "metadata": {
        "id": "LDsVh85jMFlQ"
      }
    },
    {
      "cell_type": "code",
      "source": [
        "extractive_qa_pipeline = pipeline(\n",
        "    \"question-answering\",\n",
        "    model=\"henryk/bert-base-multilingual-cased-finetuned-polish-squad2\",\n",
        "    tokenizer=\"henryk/bert-base-multilingual-cased-finetuned-polish-squad2\"\n",
        ")"
      ],
      "metadata": {
        "id": "xS8nHX5u14bS"
      },
      "execution_count": 24,
      "outputs": []
    },
    {
      "cell_type": "code",
      "source": [
        "context = best_ans.A\n",
        "extr_ans = extractive_qa_pipeline({'context': context, 'question': question})\n",
        "\n",
        "print_answer(question, context, extr_ans.get('answer', '???'))"
      ],
      "metadata": {
        "colab": {
          "base_uri": "https://localhost:8080/"
        },
        "id": "UAldjPO94gdh",
        "outputId": "73d37a60-1ed9-4137-de96-2af15a946301"
      },
      "execution_count": 25,
      "outputs": [
        {
          "output_type": "stream",
          "name": "stdout",
          "text": [
            "==================================================\n",
            "INPUT QUESTION: Czy wietrzenie pomieszczenia zapobiega rozprzestrzenianiu się koronawirusa?\n",
            "MATCHED DB QUESTION: Lampy UV przeznaczone są do dezynfekcji pomieszczeń, nie powinny być używane do sterylizacji rąk lub innych obszarów skóry, ponieważ promieniowanie UV może powodować podrażnienie skóry.\n",
            "ANSWER: nie powinny być używane do sterylizacji rąk\n",
            "==================================================\n"
          ]
        }
      ]
    },
    {
      "cell_type": "markdown",
      "source": [
        "W tym przypadku wyniki często bywają dużo gorsze - jak powyżej - system udzielił dokładnie odwrotnej odpowiedzi niż powinien."
      ],
      "metadata": {
        "id": "DqV4HqYOgybe"
      }
    },
    {
      "cell_type": "markdown",
      "source": [
        "Nie dysponujemy niestety żadnym zbiorem testowym, na którym można by przetestować działanie naszego rozwiązania. Pozostaje nam ręczne testowanie i trochę pośrednich miar, które można by wyliczyć.\n",
        "\n",
        "Zbudujemy również prosty model, który będzie mógł stanowić nasz benchmark w trakcie testów.\n",
        "\n",
        "W tym celu skorzystam z rozwiązania opisanego jako \n",
        "[propozycja 2 (TFIDF)](#tfidf) oraz biblioteki SpaCy. Na podstawie wektora TFIDF będziemy wyszukiwali podobne pytania za pomocą podobieństwa cosinusowego."
      ],
      "metadata": {
        "id": "xaxxnfZTMdNe"
      }
    },
    {
      "cell_type": "code",
      "source": [
        "nlp = spacy.load(\"pl_core_news_sm\")\n",
        "\n",
        "# Usuwamy niepotrzebne elementy pipeline'u\n",
        "print(\"Pipeline NLP SpaCy\")\n",
        "print(\"Przed: \", \", \".join(nlp.pipe_names))\n",
        "for proc_step in [\"parser\", \"attribute_ruler\", \"ner\"]:\n",
        "  nlp.remove_pipe(proc_step)\n",
        "print(\"Po: \", \", \".join(nlp.pipe_names))"
      ],
      "metadata": {
        "colab": {
          "base_uri": "https://localhost:8080/"
        },
        "id": "MHJ_slyHQ0fy",
        "outputId": "d63fa9cc-3b41-43fc-c01d-0718d76e7442"
      },
      "execution_count": 26,
      "outputs": [
        {
          "output_type": "stream",
          "name": "stdout",
          "text": [
            "Pipeline NLP SpaCy\n",
            "Przed:  tok2vec, morphologizer, parser, lemmatizer, tagger, attribute_ruler, ner\n",
            "Po:  tok2vec, morphologizer, lemmatizer, tagger\n"
          ]
        }
      ]
    },
    {
      "cell_type": "code",
      "source": [
        "def preprocess(doc):\n",
        "  # Tokenizacja, lematyzacja i filtrowanie stopwordsów za pomocą SpaCy\n",
        "  return [tok.lemma_ for tok in nlp(doc) if not tok.is_stop and not tok.is_punct]"
      ],
      "metadata": {
        "id": "RbeOPTrqIdJu"
      },
      "execution_count": 27,
      "outputs": []
    },
    {
      "cell_type": "code",
      "source": [
        "df[\"Q_preprocessed\"] = df[\"Q\"].apply(preprocess)\n",
        "df[\"Q_preprocessed\"].values[:20]"
      ],
      "metadata": {
        "colab": {
          "base_uri": "https://localhost:8080/"
        },
        "id": "0_DPCSJoXaik",
        "outputId": "3c364b6a-7b87-4011-d7cf-3e48a9a10327"
      },
      "execution_count": 28,
      "outputs": [
        {
          "output_type": "execute_result",
          "data": {
            "text/plain": [
              "array([list(['objaw', 'charakterystyczny', 'koronawiruso']),\n",
              "       list(['zrobić', 'przypadek', 'wystąpić', 'duszność', 'trudność', 'oddychanie']),\n",
              "       list(['objaw', 'charakterystyczny', 'COVID', '19', 'powinien być', 'zrobić', 'pierwszy', 'kolejność']),\n",
              "       list(['móc', 'skontaktować', 'swój', 'lekarz', 'POZ', 'zrobić']),\n",
              "       list(['lekarz', 'POZ', 'dyżurować', 'objawy', 'COVID', '19', 'zrobić']),\n",
              "       list(['skierować', 'test', 'wystawić', 'lekarz', 'POZ', 'lekarz', 'nocny', 'świąteczny', 'telepomoc', 'wystawić', 'skierowanie']),\n",
              "       list(['znaleźć', 'wynik', 'test']),\n",
              "       list(['wynik', 'test', 'pozytywny', 'zostana', 'poinformować']),\n",
              "       list(['skontaktować być', 'sanepidem', 'pomoc', 'formularz', 'strona', 'dostać', 'odpowiedź', 'pytanie']),\n",
              "       list(['znaczyć', 'mieć być', 'bliski', 'kontakt', 'osoba', 'chory']),\n",
              "       list(['mieć być', 'bliski', 'kontakt', 'osoba', 'otrzymać', 'pozytywny', 'wynik', 'test', 'powinien być', 'zgłosić']),\n",
              "       list(['dostać', 'informacja', 'zostać być', 'objąć', 'kwarantanna', 'zgłoszeć', 'bliskiy', 'kontakt', 'osoba', 'zarażony']),\n",
              "       list(['mieć być', 'bliski', 'kontakt', 'osoba', 'chory', 'dostać być', 'informacja', 'zostać być', 'objąć', 'kwarantanna', 'znaczyć', 'móc', 'iść', 'praca', 'sklep']),\n",
              "       list(['kwarantann', 'domownik', 'musieć', 'przebywać']),\n",
              "       list(['móc', 'otrzymać', 'informacja', 'temat', 'kwarantanny']),\n",
              "       list(['ozdrowieniec', 'podlegać', 'kwarantannie', 'kontakt', 'osoba', 'chory']),\n",
              "       list(['osoba', 'zaszczepić', 'COVID', '19', 'kierować', 'kwarantanna', 'kontakt', 'osoba', 'zakażić', 'koronawirus']),\n",
              "       list(['muy', 'mieć', 'skierować', 'test', 'przygotować', 'móc', 'wykonać']),\n",
              "       list(['skierować', 'test', 'COVID', '19']),\n",
              "       list(['rodzaj', 'test', 'zwalniać', 'obowiązkowy', 'kwarantanna', 'przyjazd', 'Polska', 'należeć', 'wykonać', '\\xa0'])],\n",
              "      dtype=object)"
            ]
          },
          "metadata": {},
          "execution_count": 28
        }
      ]
    },
    {
      "cell_type": "code",
      "source": [
        "# Pomijamy wbudowany preprocesor i użyjemy uni- i bigramów żeby oszukać i przemycić trochę semantyki dystrybucyjnej ;)\n",
        "tfidf = TfidfVectorizer(ngram_range=(1, 2), tokenizer=preprocess, stop_words=None, lowercase=False)    \n",
        "tfidf_docs_arr = tfidf.fit_transform(df[\"Q\"])"
      ],
      "metadata": {
        "id": "iKEZeG9qMchv"
      },
      "execution_count": 29,
      "outputs": []
    },
    {
      "cell_type": "markdown",
      "source": [
        "Możemy sprawdzić czy nasz `TfidfVectorizer` zadziałał jak trzeba sprawdzając vocabulary."
      ],
      "metadata": {
        "id": "rTQN99c9Ydom"
      }
    },
    {
      "cell_type": "code",
      "source": [
        "list(tfidf.vocabulary_)[:20]"
      ],
      "metadata": {
        "colab": {
          "base_uri": "https://localhost:8080/"
        },
        "id": "p4tj5z3OX2Zz",
        "outputId": "7977ce21-0726-4ae8-dacf-f7787420bf2a"
      },
      "execution_count": 30,
      "outputs": [
        {
          "output_type": "execute_result",
          "data": {
            "text/plain": [
              "['objaw',\n",
              " 'charakterystyczny',\n",
              " 'koronawiruso',\n",
              " 'objaw charakterystyczny',\n",
              " 'charakterystyczny koronawiruso',\n",
              " 'zrobić',\n",
              " 'przypadek',\n",
              " 'wystąpić',\n",
              " 'duszność',\n",
              " 'trudność',\n",
              " 'oddychanie',\n",
              " 'zrobić przypadek',\n",
              " 'przypadek wystąpić',\n",
              " 'wystąpić duszność',\n",
              " 'duszność trudność',\n",
              " 'trudność oddychanie',\n",
              " 'COVID',\n",
              " '19',\n",
              " 'powinien być',\n",
              " 'pierwszy']"
            ]
          },
          "metadata": {},
          "execution_count": 30
        }
      ]
    },
    {
      "cell_type": "code",
      "source": [
        "def get_tfidf_sim(vectorizer, docs_tfidf, query):\n",
        "    query_tfidf = vectorizer.transform([query])\n",
        "    cosineSimilarities = cosine_similarity(query_tfidf, docs_tfidf).flatten()\n",
        "    return cosineSimilarities"
      ],
      "metadata": {
        "id": "9tOgLRkrYta9"
      },
      "execution_count": 31,
      "outputs": []
    },
    {
      "cell_type": "code",
      "source": [
        "def get_tfidf_answer(question, tfidf, tfidf_docs_arr):\n",
        "  top_sim_index = get_tfidf_sim(tfidf, tfidf_docs_arr, question).argmax()\n",
        "\n",
        "  matched_question = df[\"Q\"].iloc[top_sim_index]\n",
        "  matched_answer = df[\"A\"].iloc[top_sim_index]\n",
        "  print_answer(question, matched_question, matched_answer)"
      ],
      "metadata": {
        "id": "TtKdeLYLZ6Xa"
      },
      "execution_count": 32,
      "outputs": []
    },
    {
      "cell_type": "code",
      "source": [
        "get_tfidf_answer(question, tfidf, tfidf_docs_arr)"
      ],
      "metadata": {
        "colab": {
          "base_uri": "https://localhost:8080/"
        },
        "id": "IAiqlaIqKhzP",
        "outputId": "54f1ab10-4166-4cae-bc03-b5c8bef465d7"
      },
      "execution_count": 33,
      "outputs": [
        {
          "output_type": "stream",
          "name": "stdout",
          "text": [
            "==================================================\n",
            "INPUT QUESTION: Czy wietrzenie pomieszczenia zapobiega rozprzestrzenianiu się koronawirusa?\n",
            "MATCHED DB QUESTION: Jak zdezynfekować pomieszczenia w zakładzie pracy, w którym przebywała osoba chora lub podejrzana o zachorowanie na koronawirusa? Kto powinien potwierdzić, że ta dezynfekcja miała miejsce?\n",
            "ANSWER: Osoba odpowiedzialna za dezynfekcję pomieszczenia oraz sposób jej dokumentacji powinna być określona przez pracodawcę. W sprawie dezynfekcji pomieszczenia możemy posiłkować się wytycznymi GIS dla POZ (dotyczące dezynfekcji pomieszczenia, w której przebywała osoba chora lub podejrzana o zachorowanie na koronawirusa), tj. wyłączyć z funkcjonowania pomieszczenie, w którym przebywała osoba zakażona, umyć i zdezynfekować powierzchnie, meble, sprzęt – po dezynfekcji może być ponownie używane, wywietrzyć pomieszczenie, w którym przebywała osoba zakażona, zdezynfekować drogę lub drogi dojścia do pomieszczenia gdzie przebywała osoba zakażona do pomieszczenia (poręcze schodów, klamki, lady itp., czyli elementy, których mogła dotykać), używać środków dezynfekujących aktywnych przeciwko wirusom.\n",
            "==================================================\n"
          ]
        }
      ]
    },
    {
      "cell_type": "markdown",
      "source": [
        "Wygląda na to, że musimy dodać wszystkie określenia koronawirusa do stopwordsów bo występują zbyt często i algorytm może być na nie przewrażliwiony."
      ],
      "metadata": {
        "id": "dYQ1djm9d4nc"
      }
    },
    {
      "cell_type": "code",
      "source": [
        "domain_specific_stopwords = [\n",
        "    \"koronawiruso\",\n",
        "    \"COVID\",\n",
        "    \"19\",\n",
        "    \"COVID19\",\n",
        "    \"coV\",\n",
        "    \"SARS\"\n",
        "]"
      ],
      "metadata": {
        "id": "p4YQwtVgd4TU"
      },
      "execution_count": 34,
      "outputs": []
    },
    {
      "cell_type": "code",
      "source": [
        "# Pomijamy wbudowany preprocesor i użyjemy uni- i bigramów żeby oszukać i przemycić trochę semantyki dystrybucyjnej ;)\n",
        "tfidf = TfidfVectorizer(ngram_range=(1, 2), tokenizer=preprocess, stop_words=domain_specific_stopwords, lowercase=False)    \n",
        "tfidf_docs_arr = tfidf.fit_transform(df[\"Q\"])"
      ],
      "metadata": {
        "id": "JwVA4nvMgJ-x"
      },
      "execution_count": 35,
      "outputs": []
    },
    {
      "cell_type": "code",
      "source": [
        "list(tfidf.vocabulary_)[:20]"
      ],
      "metadata": {
        "colab": {
          "base_uri": "https://localhost:8080/"
        },
        "id": "bkUDlCxhgRuR",
        "outputId": "94f3682e-e1da-469b-a8fd-ff4bacfc7623"
      },
      "execution_count": 36,
      "outputs": [
        {
          "output_type": "execute_result",
          "data": {
            "text/plain": [
              "['objaw',\n",
              " 'charakterystyczny',\n",
              " 'objaw charakterystyczny',\n",
              " 'zrobić',\n",
              " 'przypadek',\n",
              " 'wystąpić',\n",
              " 'duszność',\n",
              " 'trudność',\n",
              " 'oddychanie',\n",
              " 'zrobić przypadek',\n",
              " 'przypadek wystąpić',\n",
              " 'wystąpić duszność',\n",
              " 'duszność trudność',\n",
              " 'trudność oddychanie',\n",
              " 'powinien być',\n",
              " 'pierwszy',\n",
              " 'kolejność',\n",
              " 'charakterystyczny powinien być',\n",
              " 'powinien być zrobić',\n",
              " 'zrobić pierwszy']"
            ]
          },
          "metadata": {},
          "execution_count": 36
        }
      ]
    },
    {
      "cell_type": "code",
      "source": [
        "top_sim_index = get_tfidf_sim(tfidf, tfidf_docs_arr, question).argmax()\n",
        "\n",
        "matched_question = df[\"Q\"].iloc[top_sim_index]\n",
        "matched_answer = df[\"A\"].iloc[top_sim_index]\n",
        "print_answer(question, matched_question, matched_answer)"
      ],
      "metadata": {
        "colab": {
          "base_uri": "https://localhost:8080/"
        },
        "id": "SDHlqF0ugdeV",
        "outputId": "9158283b-1eee-4328-8342-68cbef8e7ccc"
      },
      "execution_count": 37,
      "outputs": [
        {
          "output_type": "stream",
          "name": "stdout",
          "text": [
            "==================================================\n",
            "INPUT QUESTION: Czy wietrzenie pomieszczenia zapobiega rozprzestrzenianiu się koronawirusa?\n",
            "MATCHED DB QUESTION: Jak zdezynfekować pomieszczenia w zakładzie pracy, w którym przebywała osoba chora lub podejrzana o zachorowanie na koronawirusa? Kto powinien potwierdzić, że ta dezynfekcja miała miejsce?\n",
            "ANSWER: Osoba odpowiedzialna za dezynfekcję pomieszczenia oraz sposób jej dokumentacji powinna być określona przez pracodawcę. W sprawie dezynfekcji pomieszczenia możemy posiłkować się wytycznymi GIS dla POZ (dotyczące dezynfekcji pomieszczenia, w której przebywała osoba chora lub podejrzana o zachorowanie na koronawirusa), tj. wyłączyć z funkcjonowania pomieszczenie, w którym przebywała osoba zakażona, umyć i zdezynfekować powierzchnie, meble, sprzęt – po dezynfekcji może być ponownie używane, wywietrzyć pomieszczenie, w którym przebywała osoba zakażona, zdezynfekować drogę lub drogi dojścia do pomieszczenia gdzie przebywała osoba zakażona do pomieszczenia (poręcze schodów, klamki, lady itp., czyli elementy, których mogła dotykać), używać środków dezynfekujących aktywnych przeciwko wirusom.\n",
            "==================================================\n"
          ]
        }
      ]
    },
    {
      "cell_type": "markdown",
      "source": [
        "Możemy teraz porównać sobie nasze dwa rozwiązania uznając, że to oparte o TF-IDF jest benchmarkiem. brakuje nam zbioru danych i miary ale możemy potestować ręcznie."
      ],
      "metadata": {
        "id": "6BpNcCe1giKg"
      }
    },
    {
      "cell_type": "markdown",
      "source": [
        "Zobaczmy jeszcze jak obydwa algorytmy poradzą sobie w przypadku rozbicia wszystkich dostępnych odpowiedzi na pojedyncze zdania i wyszukiwania w tak powstałym zbiorze za pomocą obydwu dostępnych metod. Ponieważ w zdaniach występują kropki po skrótach musiałem chociaż wstępnie zabezpieczyć przed rozbjaniem zdań w tych miejscach."
      ],
      "metadata": {
        "id": "JP5AtYMsbLyK"
      }
    },
    {
      "cell_type": "markdown",
      "source": [
        "Na tym etapie uciążliwy jest już brak funkcji do wykonywania powtarzalnego kodu (DRY) ale niestety nie starczyło mi już czasu na porządki. Ctrl+C + Ctrl+V "
      ],
      "metadata": {
        "id": "hyiPfNTSB2tH"
      }
    },
    {
      "cell_type": "code",
      "source": [
        "sent_tokenizer_regexp = re.compile(\"(?<!Dz)(?<!U)(?<!r)(?<!poz)[.?!]+\\s+\")\n",
        "df[\"A_sentences\"] = df.A.apply(lambda x: [sent for sent in sent_tokenizer_regexp.split(x) if sent]).values\n",
        "\n",
        "a_sentences_dict = {\n",
        "    \"a_sentence\": [],\n",
        "    \"original_dataframe_index\": []\n",
        "}\n",
        "\n",
        "for df_index, row in df.iterrows():\n",
        "  for sent in row[\"A_sentences\"]:\n",
        "    a_sentences_dict[\"a_sentence\"].append(sent)\n",
        "    a_sentences_dict[\"original_dataframe_index\"].append(df_index - 1)\n",
        "\n",
        "df_sentences = pd.DataFrame.from_dict(a_sentences_dict)\n",
        "a_sent_ds = Dataset.from_pandas(df_sentences)\n",
        "\n",
        "a_sent_embeddings_dataset = a_sent_ds.map(\n",
        "    lambda x: {\"embeddings\": get_embeddings(x[\"a_sentence\"]).detach().cpu().numpy()[0]}\n",
        ")\n",
        "a_sent_embeddings_dataset.add_faiss_index(column=\"embeddings\")"
      ],
      "metadata": {
        "colab": {
          "base_uri": "https://localhost:8080/",
          "height": 118,
          "referenced_widgets": [
            "97de73a550e54a80ab8fbfffee929f1f",
            "c2bc22020a02405690b5d129ff3fa0d3",
            "6adff1bdef974f869a73afa699b75232",
            "b1081a4fd63b4184b262b3a5e7ef57f4",
            "ba031d5a294844d2a85c80d8267e75a2",
            "16df23a518e74a37b0b59636380efd20",
            "77b00c1cad8246a78c1efa910ba4e367",
            "6a81ab31d7a7420d90993d6d8eab9713",
            "47cd4111206849e89ee1f6e050fcbde2",
            "6cc90af7a742444e9daf9baaf936f844",
            "cf8068efbc5c460186f2b43af8f9a546",
            "bfdcb5a7bcd54535bfa8d692e675fea0",
            "6a8384cb0f8748938280a4af559f7d29",
            "c1af4278cc484c6391cfab3f2fdee0e0",
            "60adbe87c5b546379f8d34629b376911",
            "303e4b532c9f4a898a8c119a03859221",
            "ef154c4202b541a0b9f0e110a480c4bb",
            "dcc04555d24b45a1902417d95bdc9635",
            "63f9e035bb3b4e779e86c2c35b7e682f",
            "94c921b275d1456da77a6ca40e971029",
            "58102179c1134a21b11c0df1f75e7641",
            "46055aed31274decace66b30bd7ef571"
          ]
        },
        "id": "x6r-w-BTcfhg",
        "outputId": "ba37bd77-9876-41d8-f965-c7f71775931b"
      },
      "execution_count": 38,
      "outputs": [
        {
          "output_type": "display_data",
          "data": {
            "text/plain": [
              "Map:   0%|          | 0/1015 [00:00<?, ? examples/s]"
            ],
            "application/vnd.jupyter.widget-view+json": {
              "version_major": 2,
              "version_minor": 0,
              "model_id": "97de73a550e54a80ab8fbfffee929f1f"
            }
          },
          "metadata": {}
        },
        {
          "output_type": "display_data",
          "data": {
            "text/plain": [
              "  0%|          | 0/2 [00:00<?, ?it/s]"
            ],
            "application/vnd.jupyter.widget-view+json": {
              "version_major": 2,
              "version_minor": 0,
              "model_id": "bfdcb5a7bcd54535bfa8d692e675fea0"
            }
          },
          "metadata": {}
        },
        {
          "output_type": "execute_result",
          "data": {
            "text/plain": [
              "Dataset({\n",
              "    features: ['a_sentence', 'original_dataframe_index', 'embeddings'],\n",
              "    num_rows: 1015\n",
              "})"
            ]
          },
          "metadata": {},
          "execution_count": 38
        }
      ]
    },
    {
      "cell_type": "code",
      "source": [
        "scores, samples = get_nearest_samples(question, a_sent_embeddings_dataset, k=10)\n",
        "\n",
        "samples_df = pd.DataFrame.from_dict(samples)\n",
        "samples_df[\"scores\"] = scores\n",
        "samples_df.sort_values(\"scores\", ascending=False, inplace=True)\n",
        "\n",
        "samples_df"
      ],
      "metadata": {
        "colab": {
          "base_uri": "https://localhost:8080/",
          "height": 363
        },
        "id": "z3BIWU8vCQ14",
        "outputId": "660f42c8-c21a-43a0-dbfb-2c8286d13f83"
      },
      "execution_count": 39,
      "outputs": [
        {
          "output_type": "execute_result",
          "data": {
            "text/plain": [
              "                                          a_sentence  \\\n",
              "9  Tak więc w przypadku mięsa, produktów surowych...   \n",
              "8            Dowiedź się więcej o zasadach izolacji.   \n",
              "7  Aby uchronić się przed nowym koronawirusem, na...   \n",
              "6  Należy także unikać bliskiego kontaktu z każdy...   \n",
              "5  Noszenie rękawiczek w miejscach publicznych zm...   \n",
              "4                 Samochód trzeba również wywietrzyć   \n",
              "3  Nie ma dowodów na to, że regularne płukanie no...   \n",
              "2  Koronawirus ulega zniszczeniu gdy zastosuje si...   \n",
              "1  Rozpylanie alkoholu lub chloru na całym ciele ...   \n",
              "0  Nie ma powodu sądzić, że zimna pogoda może zab...   \n",
              "\n",
              "   original_dataframe_index  \\\n",
              "9                       324   \n",
              "8                        41   \n",
              "7                       327   \n",
              "6                       332   \n",
              "5                       222   \n",
              "4                        65   \n",
              "3                       330   \n",
              "2                       324   \n",
              "1                       326   \n",
              "0                       332   \n",
              "\n",
              "                                          embeddings      scores  \n",
              "9  [0.16496649384498596, -0.03218463808298111, -0...  197.565567  \n",
              "8  [0.16313602030277252, 0.6580018401145935, 0.10...  190.853897  \n",
              "7  [-0.16600103676319122, 0.43667295575141907, -0...  190.569153  \n",
              "6  [-0.06034249812364578, 0.2664748728275299, 0.1...  183.188492  \n",
              "5  [-0.07240550965070724, 0.15883129835128784, -0...  182.495010  \n",
              "4  [-0.28388386964797974, -0.409058153629303, -0....  181.149109  \n",
              "3  [0.07561793178319931, 0.13531745970249176, -0....  180.576691  \n",
              "2  [-0.27627232670783997, -0.15678440034389496, -...  174.047318  \n",
              "1  [-0.1579146385192871, 0.29090556502342224, -0....  167.217987  \n",
              "0  [-0.7416771054267883, -0.08485336601734161, -0...  128.940689  "
            ],
            "text/html": [
              "\n",
              "  <div id=\"df-c7b22b92-cad2-401f-8256-2c9260a1fd00\">\n",
              "    <div class=\"colab-df-container\">\n",
              "      <div>\n",
              "<style scoped>\n",
              "    .dataframe tbody tr th:only-of-type {\n",
              "        vertical-align: middle;\n",
              "    }\n",
              "\n",
              "    .dataframe tbody tr th {\n",
              "        vertical-align: top;\n",
              "    }\n",
              "\n",
              "    .dataframe thead th {\n",
              "        text-align: right;\n",
              "    }\n",
              "</style>\n",
              "<table border=\"1\" class=\"dataframe\">\n",
              "  <thead>\n",
              "    <tr style=\"text-align: right;\">\n",
              "      <th></th>\n",
              "      <th>a_sentence</th>\n",
              "      <th>original_dataframe_index</th>\n",
              "      <th>embeddings</th>\n",
              "      <th>scores</th>\n",
              "    </tr>\n",
              "  </thead>\n",
              "  <tbody>\n",
              "    <tr>\n",
              "      <th>9</th>\n",
              "      <td>Tak więc w przypadku mięsa, produktów surowych...</td>\n",
              "      <td>324</td>\n",
              "      <td>[0.16496649384498596, -0.03218463808298111, -0...</td>\n",
              "      <td>197.565567</td>\n",
              "    </tr>\n",
              "    <tr>\n",
              "      <th>8</th>\n",
              "      <td>Dowiedź się więcej o zasadach izolacji.</td>\n",
              "      <td>41</td>\n",
              "      <td>[0.16313602030277252, 0.6580018401145935, 0.10...</td>\n",
              "      <td>190.853897</td>\n",
              "    </tr>\n",
              "    <tr>\n",
              "      <th>7</th>\n",
              "      <td>Aby uchronić się przed nowym koronawirusem, na...</td>\n",
              "      <td>327</td>\n",
              "      <td>[-0.16600103676319122, 0.43667295575141907, -0...</td>\n",
              "      <td>190.569153</td>\n",
              "    </tr>\n",
              "    <tr>\n",
              "      <th>6</th>\n",
              "      <td>Należy także unikać bliskiego kontaktu z każdy...</td>\n",
              "      <td>332</td>\n",
              "      <td>[-0.06034249812364578, 0.2664748728275299, 0.1...</td>\n",
              "      <td>183.188492</td>\n",
              "    </tr>\n",
              "    <tr>\n",
              "      <th>5</th>\n",
              "      <td>Noszenie rękawiczek w miejscach publicznych zm...</td>\n",
              "      <td>222</td>\n",
              "      <td>[-0.07240550965070724, 0.15883129835128784, -0...</td>\n",
              "      <td>182.495010</td>\n",
              "    </tr>\n",
              "    <tr>\n",
              "      <th>4</th>\n",
              "      <td>Samochód trzeba również wywietrzyć</td>\n",
              "      <td>65</td>\n",
              "      <td>[-0.28388386964797974, -0.409058153629303, -0....</td>\n",
              "      <td>181.149109</td>\n",
              "    </tr>\n",
              "    <tr>\n",
              "      <th>3</th>\n",
              "      <td>Nie ma dowodów na to, że regularne płukanie no...</td>\n",
              "      <td>330</td>\n",
              "      <td>[0.07561793178319931, 0.13531745970249176, -0....</td>\n",
              "      <td>180.576691</td>\n",
              "    </tr>\n",
              "    <tr>\n",
              "      <th>2</th>\n",
              "      <td>Koronawirus ulega zniszczeniu gdy zastosuje si...</td>\n",
              "      <td>324</td>\n",
              "      <td>[-0.27627232670783997, -0.15678440034389496, -...</td>\n",
              "      <td>174.047318</td>\n",
              "    </tr>\n",
              "    <tr>\n",
              "      <th>1</th>\n",
              "      <td>Rozpylanie alkoholu lub chloru na całym ciele ...</td>\n",
              "      <td>326</td>\n",
              "      <td>[-0.1579146385192871, 0.29090556502342224, -0....</td>\n",
              "      <td>167.217987</td>\n",
              "    </tr>\n",
              "    <tr>\n",
              "      <th>0</th>\n",
              "      <td>Nie ma powodu sądzić, że zimna pogoda może zab...</td>\n",
              "      <td>332</td>\n",
              "      <td>[-0.7416771054267883, -0.08485336601734161, -0...</td>\n",
              "      <td>128.940689</td>\n",
              "    </tr>\n",
              "  </tbody>\n",
              "</table>\n",
              "</div>\n",
              "      <button class=\"colab-df-convert\" onclick=\"convertToInteractive('df-c7b22b92-cad2-401f-8256-2c9260a1fd00')\"\n",
              "              title=\"Convert this dataframe to an interactive table.\"\n",
              "              style=\"display:none;\">\n",
              "        \n",
              "  <svg xmlns=\"http://www.w3.org/2000/svg\" height=\"24px\"viewBox=\"0 0 24 24\"\n",
              "       width=\"24px\">\n",
              "    <path d=\"M0 0h24v24H0V0z\" fill=\"none\"/>\n",
              "    <path d=\"M18.56 5.44l.94 2.06.94-2.06 2.06-.94-2.06-.94-.94-2.06-.94 2.06-2.06.94zm-11 1L8.5 8.5l.94-2.06 2.06-.94-2.06-.94L8.5 2.5l-.94 2.06-2.06.94zm10 10l.94 2.06.94-2.06 2.06-.94-2.06-.94-.94-2.06-.94 2.06-2.06.94z\"/><path d=\"M17.41 7.96l-1.37-1.37c-.4-.4-.92-.59-1.43-.59-.52 0-1.04.2-1.43.59L10.3 9.45l-7.72 7.72c-.78.78-.78 2.05 0 2.83L4 21.41c.39.39.9.59 1.41.59.51 0 1.02-.2 1.41-.59l7.78-7.78 2.81-2.81c.8-.78.8-2.07 0-2.86zM5.41 20L4 18.59l7.72-7.72 1.47 1.35L5.41 20z\"/>\n",
              "  </svg>\n",
              "      </button>\n",
              "      \n",
              "  <style>\n",
              "    .colab-df-container {\n",
              "      display:flex;\n",
              "      flex-wrap:wrap;\n",
              "      gap: 12px;\n",
              "    }\n",
              "\n",
              "    .colab-df-convert {\n",
              "      background-color: #E8F0FE;\n",
              "      border: none;\n",
              "      border-radius: 50%;\n",
              "      cursor: pointer;\n",
              "      display: none;\n",
              "      fill: #1967D2;\n",
              "      height: 32px;\n",
              "      padding: 0 0 0 0;\n",
              "      width: 32px;\n",
              "    }\n",
              "\n",
              "    .colab-df-convert:hover {\n",
              "      background-color: #E2EBFA;\n",
              "      box-shadow: 0px 1px 2px rgba(60, 64, 67, 0.3), 0px 1px 3px 1px rgba(60, 64, 67, 0.15);\n",
              "      fill: #174EA6;\n",
              "    }\n",
              "\n",
              "    [theme=dark] .colab-df-convert {\n",
              "      background-color: #3B4455;\n",
              "      fill: #D2E3FC;\n",
              "    }\n",
              "\n",
              "    [theme=dark] .colab-df-convert:hover {\n",
              "      background-color: #434B5C;\n",
              "      box-shadow: 0px 1px 3px 1px rgba(0, 0, 0, 0.15);\n",
              "      filter: drop-shadow(0px 1px 2px rgba(0, 0, 0, 0.3));\n",
              "      fill: #FFFFFF;\n",
              "    }\n",
              "  </style>\n",
              "\n",
              "      <script>\n",
              "        const buttonEl =\n",
              "          document.querySelector('#df-c7b22b92-cad2-401f-8256-2c9260a1fd00 button.colab-df-convert');\n",
              "        buttonEl.style.display =\n",
              "          google.colab.kernel.accessAllowed ? 'block' : 'none';\n",
              "\n",
              "        async function convertToInteractive(key) {\n",
              "          const element = document.querySelector('#df-c7b22b92-cad2-401f-8256-2c9260a1fd00');\n",
              "          const dataTable =\n",
              "            await google.colab.kernel.invokeFunction('convertToInteractive',\n",
              "                                                     [key], {});\n",
              "          if (!dataTable) return;\n",
              "\n",
              "          const docLinkHtml = 'Like what you see? Visit the ' +\n",
              "            '<a target=\"_blank\" href=https://colab.research.google.com/notebooks/data_table.ipynb>data table notebook</a>'\n",
              "            + ' to learn more about interactive tables.';\n",
              "          element.innerHTML = '';\n",
              "          dataTable['output_type'] = 'display_data';\n",
              "          await google.colab.output.renderOutput(dataTable, element);\n",
              "          const docLink = document.createElement('div');\n",
              "          docLink.innerHTML = docLinkHtml;\n",
              "          element.appendChild(docLink);\n",
              "        }\n",
              "      </script>\n",
              "    </div>\n",
              "  </div>\n",
              "  "
            ]
          },
          "metadata": {},
          "execution_count": 39
        }
      ]
    },
    {
      "cell_type": "markdown",
      "source": [
        "Pojedyncze zdania wybrane spośród odpowiedzi wyglądają dobrze. Zobaczmy co się stanie gdy je połączymy i podamy jako konktest do pipeline'u extractive QA.."
      ],
      "metadata": {
        "id": "LDoOl_MYFTnW"
      }
    },
    {
      "cell_type": "code",
      "source": [
        "a_sent_context = re.sub(r\"\\.+\", \".\", \". \".join(samples_df.a_sentence.values.tolist()))\n",
        "a_sent_context\n"
      ],
      "metadata": {
        "colab": {
          "base_uri": "https://localhost:8080/",
          "height": 105
        },
        "id": "IhuNK3ThFN9E",
        "outputId": "aa0ef9f3-1891-436c-b62b-0894b583022d"
      },
      "execution_count": 40,
      "outputs": [
        {
          "output_type": "execute_result",
          "data": {
            "text/plain": [
              "'Tak więc w przypadku mięsa, produktów surowych, typowa obróbka cieplna eliminuje zanieczyszczenie mikrobiologiczne, w tym również SARS COV-2. Dowiedź się więcej o zasadach izolacji. Aby uchronić się przed nowym koronawirusem, należy często myć ręce wodą i mydłem oraz dezynfekować je płynem na bazie alkoholu. Należy także unikać bliskiego kontaktu z każdym, kto kaszle i kicha. Noszenie rękawiczek w miejscach publicznych zmniejsza ryzyko zakażenia koronawirusem. Samochód trzeba również wywietrzyć. Nie ma dowodów na to, że regularne płukanie nosa solą fizjologiczną chroni przed zakażeniem nowym koronawirusem. Koronawirus ulega zniszczeniu gdy zastosuje się odpowiednią kombinację czasu i temperatury np. Rozpylanie alkoholu lub chloru na całym ciele nie zabije wirusów, które już dostały się do organizmu. Nie ma powodu sądzić, że zimna pogoda może zabić koronawirusa lub inne choroby'"
            ],
            "application/vnd.google.colaboratory.intrinsic+json": {
              "type": "string"
            }
          },
          "metadata": {},
          "execution_count": 40
        }
      ]
    },
    {
      "cell_type": "code",
      "source": [
        "extr_ans = extractive_qa_pipeline({'context': a_sent_context, 'question': question})\n",
        "\n",
        "print_answer(question, a_sent_context, extr_ans.get('answer', '???'))"
      ],
      "metadata": {
        "colab": {
          "base_uri": "https://localhost:8080/"
        },
        "id": "0LuyMVfLFK2s",
        "outputId": "0cb939b3-4d4e-418d-b694-3353de4721c4"
      },
      "execution_count": 41,
      "outputs": [
        {
          "output_type": "stream",
          "name": "stdout",
          "text": [
            "==================================================\n",
            "INPUT QUESTION: Czy wietrzenie pomieszczenia zapobiega rozprzestrzenianiu się koronawirusa?\n",
            "MATCHED DB QUESTION: Tak więc w przypadku mięsa, produktów surowych, typowa obróbka cieplna eliminuje zanieczyszczenie mikrobiologiczne, w tym również SARS COV-2. Dowiedź się więcej o zasadach izolacji. Aby uchronić się przed nowym koronawirusem, należy często myć ręce wodą i mydłem oraz dezynfekować je płynem na bazie alkoholu. Należy także unikać bliskiego kontaktu z każdym, kto kaszle i kicha. Noszenie rękawiczek w miejscach publicznych zmniejsza ryzyko zakażenia koronawirusem. Samochód trzeba również wywietrzyć. Nie ma dowodów na to, że regularne płukanie nosa solą fizjologiczną chroni przed zakażeniem nowym koronawirusem. Koronawirus ulega zniszczeniu gdy zastosuje się odpowiednią kombinację czasu i temperatury np. Rozpylanie alkoholu lub chloru na całym ciele nie zabije wirusów, które już dostały się do organizmu. Nie ma powodu sądzić, że zimna pogoda może zabić koronawirusa lub inne choroby\n",
            "ANSWER: Koronawirus ulega zniszczeniu\n",
            "==================================================\n"
          ]
        }
      ]
    },
    {
      "cell_type": "markdown",
      "source": [
        "Niestety nie udało się w ten sposób rozwiązać problemu z tym dość trudnym przykładem. Wszystkie metody działają jednak dość dobrze dla typowych pytań, dla których znajdujemy odpowiedź w bazie FAQ."
      ],
      "metadata": {
        "id": "ox_iDgZCuEiA"
      }
    },
    {
      "cell_type": "code",
      "source": [
        "#@title Wpisz pytanie\n",
        "question = 'Gdzie mog\\u0119 wykona\\u0107 test na COVID-19?' #@param {type:\"string\"}\n"
      ],
      "metadata": {
        "id": "-_jdYx0vGz3k"
      },
      "execution_count": 42,
      "outputs": []
    },
    {
      "cell_type": "code",
      "source": [
        "def get_extractive_answer(question, embeddings_dataset):\n",
        "\n",
        "  scores, samples = get_nearest_samples(question, embeddings_dataset)\n",
        "\n",
        "  samples_df = pd.DataFrame.from_dict(samples)\n",
        "  samples_df[\"scores\"] = scores\n",
        "  samples_df.sort_values(\"scores\", ascending=False, inplace=True)\n",
        "\n",
        "  a_sent_context = re.sub(r\"\\.+\", \".\", \". \".join(samples_df.a_sentence.values.tolist()))\n",
        "\n",
        "  extr_ans = extractive_qa_pipeline({'context': a_sent_context, 'question': question})\n",
        "\n",
        "\n",
        "  print_answer(question, a_sent_context, extr_ans.get('answer', '???'))"
      ],
      "metadata": {
        "id": "h-vTjvVxHfpA"
      },
      "execution_count": 43,
      "outputs": []
    },
    {
      "cell_type": "code",
      "source": [
        "def print_sep():\n",
        "  print(\"\\n\" * 2)"
      ],
      "metadata": {
        "id": "W6svjpNqK-rE"
      },
      "execution_count": 44,
      "outputs": []
    },
    {
      "cell_type": "code",
      "source": [
        "print_sep_line()\n",
        "print(\"Extractive SBERT Embeddings podobieństwo cosinusowe na pojedyńczych zdaniach z pociętych odpowiedzi z FAQ.\")\n",
        "get_extractive_answer(question, a_sent_embeddings_dataset)\n",
        "print_sep()\n",
        "print_sep_line()\n",
        "print(\"SBERT Embeddings podobieństwo cosinusowe na całych pytaniach z FAQ.\")\n",
        "get_embeddings_answer(question, embeddings_dataset)\n",
        "print_sep()\n",
        "print_sep_line()\n",
        "print(\"TFIDF podobieństwo cosinusowe na całych pytaniach z FAQ.\")\n",
        "get_tfidf_answer(question, tfidf, tfidf_docs_arr)"
      ],
      "metadata": {
        "colab": {
          "base_uri": "https://localhost:8080/"
        },
        "id": "UeA9oWP5IBMO",
        "outputId": "d15ffc33-9d12-4772-f017-f5823056949e"
      },
      "execution_count": 45,
      "outputs": [
        {
          "output_type": "stream",
          "name": "stdout",
          "text": [
            "==================================================\n",
            "Extractive SBERT Embeddings podobieństwo cosinusowe na pojedyńczych zdaniach z pociętych odpowiedzi z FAQ.\n",
            "==================================================\n",
            "INPUT QUESTION: Gdzie mogę wykonać test na COVID-19?\n",
            "MATCHED DB QUESTION: Test musi zostać wykonany przed przekroczeniem granicy, w okresie 48 godzin, licząc od momentu wyniku tego testu. Jeżeli wynik Twojego testu jest pozytywny, laboratorium w którym robiłeś badanie umieści taką informację w systemie EWP. Test powinien być wykonany jak najszybciej. Test mogą zrobić osoby posiadające zlecenie na badanie. Test jest bezpłatny.\n",
            "ANSWER: laboratorium\n",
            "==================================================\n",
            "\n",
            "\n",
            "\n",
            "==================================================\n",
            "SBERT Embeddings podobieństwo cosinusowe na całych pytaniach z FAQ.\n",
            "==================================================\n",
            "INPUT QUESTION: Gdzie mogę wykonać test na COVID-19?\n",
            "MATCHED DB QUESTION: Gdzie znajdę informację o wyniku testu?\n",
            "ANSWER: Po wykonaniu badania wynik zobaczysz na swoim Internetowym Koncie Pacjenta, będziesz o nim również poinformowany przez lekarza POZ. \n",
            "==================================================\n",
            "\n",
            "\n",
            "\n",
            "==================================================\n",
            "TFIDF podobieństwo cosinusowe na całych pytaniach z FAQ.\n",
            "==================================================\n",
            "INPUT QUESTION: Gdzie mogę wykonać test na COVID-19?\n",
            "MATCHED DB QUESTION: Czy musze mieć skierowanie na test? Jak się do niego przygotować i gdzie mogę go wykonać?\n",
            "ANSWER: Test mogą zrobić osoby posiadające zlecenie na badanie. Skierowanie na test może wystawić m.in. lekarz podstawowej opieki zdrowotnej, lekarz dyżurujący w ramach nocnej lub świątecznej opieki zdrowotnej, lekarz, który udziela świadczeń opieki zdrowotnej z zakresu opieki paliatywnej i hospicyjnej (hospicja) oraz świadczeń pielęgnacyjnych i opiekuńczych w ramach opieki długoterminowej.Możesz również zapisać się na test online. Wystarczy, że wypełnisz formularz dostępny na stronie gov.pl/dom. Zostaniesz poproszony o udzielenie odpowiedzi na kilka pytań. Na podstawie przekazanych przez Ciebie danych system określi, czy kwalifikujesz się do testu.Jak to działa?Wejdź na stronę gov.pl/dom i kliknij w przycisk „Formularz”.Odpowiedz na pytania w ankiecie.Jeśli system zakwalifikuje Cię na test, skontaktuje się z Tobą konsultant z Centrum Monitorowania Domowej Opieki Medycznej.Otrzymasz zlecenie na test z systemu eKolejka.Na wykonanie testu zabierz ze sobą dokument ze zdjęciem i swoim nr PESEL, przestrzegaj zasad higieny i społecznego dystansu.Minimum 2 godziny przed badaniem:nie spożywaj posiłków,nie pij,nie żuj gumy,nie płucz jamy ustnej i nosa,nie myj zębów,nie przyjmuj leków,nie pal papierosów.Pobranie wymazu do wykonania testu następuje w mobilnym punkcie pobrań lub w domu pacjenta.\n",
            "==================================================\n"
          ]
        }
      ]
    },
    {
      "cell_type": "markdown",
      "source": [
        "Tutaj chciałem jeszcze wykorzystać fakt, że wszystkie rozwiązania mają swoje wady i zalety, które dodatkowo różnią się między sobą, i chciałem pozwolić im współpracować korzystając faktu, że np. zespół słabych klasyfikatorów osiąga dużo lepsze wyniki niż każdy z osobna. Miałem zbudować jeszcze jeden model w oparciu o gensim Doc2Vec i wyniki z wszystkich poddać głosowaniu większościowemu ale niestety już nie zdążyłem. :)\n",
        "\n",
        "Miłej lektury i przepraszam za bałagan ale na porządki już też nie starczyło czasu.\n",
        "\n",
        "\n",
        "</br>\n",
        "<center>\n",
        "<img src=\"https://drive.google.com/uc?id=19XZZAygrwhG0I1Zh_cRz85s8BBXT8R9H\" alt=\"covidqa\" width=\"100\"/>\n",
        "</center>\n",
        "</br>"
      ],
      "metadata": {
        "id": "Bv7qbferbIrE"
      }
    }
  ]
}